{
 "cells": [
  {
   "cell_type": "markdown",
   "metadata": {},
   "source": [
    "# Di-Higgs momentum regressor final training"
   ]
  },
  {
   "cell_type": "markdown",
   "metadata": {},
   "source": [
    "## Import"
   ]
  },
  {
   "cell_type": "markdown",
   "metadata": {},
   "source": [
    "### Import modules"
   ]
  },
  {
   "cell_type": "code",
   "execution_count": 3,
   "metadata": {},
   "outputs": [],
   "source": [
    "import theano\n",
    "import statsmodels.api as sm\n",
    "%matplotlib inline\n",
    "import matplotlib.pyplot as plt\n",
    "import numpy as np\n",
    "import pandas\n",
    "import math\n",
    "from sklearn.model_selection import train_test_split\n",
    "from sklearn.decomposition import PCA\n",
    "from sklearn.model_selection import KFold\n",
    "from sklearn.preprocessing import StandardScaler\n",
    "from sklearn.metrics import roc_curve, roc_auc_score\n",
    "import xgboost as xgb\n",
    "import time\n",
    "from keras.models import Sequential\n",
    "from keras.layers import Dense, Activation, Dropout, GaussianNoise, BatchNormalization, Merge\n",
    "from keras.layers.advanced_activations import ELU, PReLU\n",
    "from keras.models import model_from_json\n",
    "from keras.callbacks import EarlyStopping, ModelCheckpoint, Callback\n",
    "from keras.models import load_model\n",
    "from keras import backend as K\n",
    "from __future__ import division \n",
    "import theano.tensor as T\n",
    "from scipy.stats import ks_2samp\n",
    "import scipy.misc\n",
    "import seaborn as sns\n",
    "sns.set_style(\"white\")\n",
    "import os\n",
    "from sklearn.pipeline import Pipeline\n",
    "import json\n",
    "import glob\n",
    "import pickle\n",
    "from sklearn.externals import joblib\n",
    "import seaborn as sns\n",
    "import sys\n",
    "sys.path.append('../../../../modules')\n",
    "from MPPlot import *\n",
    "from Processors import *\n",
    "import warnings\n",
    "with warnings.catch_warnings():\n",
    "    warnings.filterwarnings('ignore')\n",
    "sys.path.append('../')\n",
    "from Regression_Application import *\n"
   ]
  },
  {
   "cell_type": "markdown",
   "metadata": {},
   "source": [
    "### Import data\n",
    "Here just looking at mu tau_h b b final-state"
   ]
  },
  {
   "cell_type": "code",
   "execution_count": 4,
   "metadata": {},
   "outputs": [
    {
     "name": "stdout",
     "output_type": "stream",
     "text": [
      "Samples contains 10417 signal events and 168053 background events\n",
      "178470 events in total\n"
     ]
    }
   ],
   "source": [
    "mode = \"mu_tau_b_b\"\n",
    "loc = '../../../../../../data_n/'\n",
    "SignalData = []\n",
    "BackgroundData = []\n",
    "\n",
    "energies = [260, 270, 280, 300, 320, 400, 500, 550, 600 ,700]\n",
    "backgrounds = ['TT' , 'WJetsToLNu']\n",
    "Data = np.concatenate((energies,backgrounds))\n",
    "\n",
    "\n",
    "\n",
    " #Load data from CSV files\n",
    "for energy in energies:\n",
    "    signaldata = pandas.read_csv(loc + \"GluGluToRadionToHHTo2B2Tau_M-\" + str(energy) +\"_narrow_13TeV-madgraph.csv\")\n",
    "    signaldata['mass'] = energy\n",
    "    SignalData.append(signaldata)\n",
    "\n",
    "\n",
    "for back in backgrounds:\n",
    "    backgroundData = pandas.read_csv(loc + back + \"_TuneCUETP8M1_13TeV.csv\")\n",
    "    backgroundData['mass'] = 0\n",
    "    BackgroundData.append(backgroundData)    \n",
    "     \n",
    "    \n",
    "signalData = SignalData[0]\n",
    "for signal_data in SignalData[1:]:\n",
    "    signalData = signalData.append(signal_data, ignore_index=True)    \n",
    "signalData.drop([x for x in signalData.columns if 'Unnamed' in x], axis=1, inplace=True)    \n",
    "signalData['gen_target'] = pandas.Series(np.ones(signalData.size))\n",
    "backgroundData = BackgroundData[0]\n",
    "for background_data in BackgroundData[1:]:\n",
    "    backgroundData = backgroundData.append(background_data, ignore_index=True)    \n",
    "backgroundData.drop([x for x in backgroundData.columns if 'Unnamed' in x], axis=1, inplace=True)    \n",
    "backgroundData['gen_target'] = pandas.Series(np.zeros(backgroundData.size))\n",
    "\n",
    "print(\"Samples contains {0} signal events and {1} background events\".format(len(signalData), len(backgroundData)))\n",
    "print(\"{} events in total\".format(len(signalData)+len(backgroundData)))\n",
    "data = signalData.append(backgroundData, ignore_index = True) #Combine into signal dataset\n",
    "def cleanData(X):\n",
    "    \"\"\"\n",
    "    Recives data and labels (X and y)\n",
    "    \n",
    "    Returns: X, y after removing points that would fail to convert to float32 \n",
    "    \"\"\"\n",
    "    \n",
    "    over  = (X > np.finfo(np.float32).max)\n",
    "    under = (X < np.finfo(np.float32).min)\n",
    "    selecting = pandas.Series(np.zeros(len(X)), dtype=np.bool)\n",
    "\n",
    "    for label in over.columns:\n",
    "        if label != 'gen_label':\n",
    "            selecting = selecting | over[label] | under[label]\n",
    "    \n",
    "    \n",
    "    X = X[np.logical_not(selecting)].reset_index(drop=True)#.values.astype('float32')\n",
    "    \n",
    "    return X\n",
    "\n",
    "\n",
    "data = cleanData(data)\n"
   ]
  },
  {
   "cell_type": "markdown",
   "metadata": {},
   "source": [
    "## Configure data"
   ]
  },
  {
   "cell_type": "markdown",
   "metadata": {},
   "source": [
    "### Create development and validation samples"
   ]
  },
  {
   "cell_type": "code",
   "execution_count": 5,
   "metadata": {
    "collapsed": true
   },
   "outputs": [],
   "source": [
    "particles = ['t_0', 't_1', 'b_0', 'b_1', 'h_tt', 'h_bb', 'diH', 'gen_t_0', 'gen_t_1', 'gen_b_0' ,'gen_b_1', 'gen_diH']\n",
    "\n",
    "for p in particles:\n",
    "    moveToCartesian(data, p) #Move pT, eta, and phi to p_x, p_y, and p_z\n",
    "    if(not str.startswith(p, \"gen\")):\n",
    "        addEnergy(data, p) #Calculate energy and absolute momentum\n",
    " \n",
    "\n",
    "moveToCartesian(data, 'mPT', False)  #Move Missing pT and phi to p_x and p_y\n",
    "addAbsMom(data, 'mPT', False) #Calculate absolute missing transverse momentum\n",
    "addMT(data, data['t_1_pT'], data['t_1_phi'], 't_1') #Calculate transverse mass of tau_mu\n",
    "data['hl_mT'] = np.sqrt(2*data['t_1_pT']*data['mPT_pT']*(1-np.cos(deltaphi(data['t_1_phi'], data['mPT_phi']))))\n",
    "\n"
   ]
  },
  {
   "cell_type": "code",
   "execution_count": 6,
   "metadata": {},
   "outputs": [
    {
     "name": "stdout",
     "output_type": "stream",
     "text": [
      "3928 events for training, 174533 events for validation\n"
     ]
    }
   ],
   "source": [
    "sig_devIndeces, sig_valIndeces = \\\n",
    "                train_test_split([i for i in data[(data.gen_target == 1) & (data.gen_mctMatch == 1)].index.tolist()],\n",
    "                                 test_size=0.2, random_state=1337)\n",
    "\n",
    "    \n",
    "devData = data.loc[sig_devIndeces].copy()\n",
    "#devData = devData.append(data.loc[bkg_devIndeces].copy(), ignore_index = True)\n",
    "valData = data.loc[sig_valIndeces].copy()\n",
    "valData = valData.append(data[data.gen_target == 0].copy(), ignore_index = True)\n",
    "valData = valData.append(data[(data.gen_target == 1) & (data.gen_mctMatch == 0)].copy(), ignore_index = True)\n",
    "sig = (valData.gen_target == 1) & (valData.gen_mctMatch == 1)\n",
    "bkg = (valData.gen_target == 0)\n",
    "sigMM = (valData.gen_target == 1) & (valData.gen_mctMatch == 0)\n",
    "\n",
    "print(\"{} events for training, {} events for validation\".format(len(devData), len(valData)))\n"
   ]
  },
  {
   "cell_type": "markdown",
   "metadata": {},
   "source": [
    "### Apply regressors"
   ]
  },
  {
   "cell_type": "code",
   "execution_count": 7,
   "metadata": {},
   "outputs": [
    {
     "name": "stdout",
     "output_type": "stream",
     "text": [
      "10 components found in ensemble\n"
     ]
    }
   ],
   "source": [
    "bRegressor = BPairRegressor(data, \"../bRegression/weights/NN_B_Regressor_App_\" + mode + \"_\"  , mode)\n",
    "bRegressor.evalResponse()\n",
    "bRegressor.getExtraVariables()\n",
    "bRegressor.refineDiHiggsVector()"
   ]
  },
  {
   "cell_type": "code",
   "execution_count": 8,
   "metadata": {},
   "outputs": [
    {
     "name": "stdout",
     "output_type": "stream",
     "text": [
      "10 components found in ensemble\n"
     ]
    }
   ],
   "source": [
    "tauRegressor = TauPairRegressor(data, \"../tauRegression/weights/NN_Tau_Regressor_App_\" + mode + \"_\"  , mode)\n",
    "tauRegressor.evalResponse()\n",
    "tauRegressor.getExtraVariables()\n",
    "tauRegressor.refineDiHiggsVector()"
   ]
  },
  {
   "cell_type": "markdown",
   "metadata": {},
   "source": [
    "### Specify variables"
   ]
  },
  {
   "cell_type": "code",
   "execution_count": 23,
   "metadata": {
    "collapsed": true
   },
   "outputs": [],
   "source": [
    "\n",
    "genFeatures = [gen for gen in data.columns if str.startswith(gen, \"gen\")]\n",
    "trainFeatures = [var for var in data.columns if var not in genFeatures]"
   ]
  },
  {
   "cell_type": "code",
   "execution_count": 24,
   "metadata": {
    "collapsed": true
   },
   "outputs": [],
   "source": [
    "pTEtaPhi = [var for var in trainFeatures for x in ['pT', 'eta', 'phi', 't_1_mass'] if x in var]\n",
    "other = [var for var in trainFeatures for x in ['Fit','csv'] if x in var]\n",
    "trainFeatures = [var for var in trainFeatures if var not in pTEtaPhi + other]"
   ]
  },
  {
   "cell_type": "code",
   "execution_count": 25,
   "metadata": {
    "collapsed": true
   },
   "outputs": [],
   "source": [
    "shapes = [var for var in trainFeatures for x in ['aplan', 'dShape', 'spher', 'upsilon'] if x in var]\n",
    "shapeFeatures = [var for var in trainFeatures if var in shapes]\n",
    "eventKinematicFeatures = ['centrality', 'eVis', 'hT', 'sT']\n",
    "jetFeatures = [var for var in trainFeatures if 'Jet' in var and 'Jets' not in var]\n",
    "multiplicityFeatures = ['nBJets', 'nJets', 'nPhotons', 'nTauJets']\n",
    "hlFeatures = [var for var in trainFeatures if (str.startswith(var, \"hl_\"))]\n",
    "recoFeatures = [var for var in trainFeatures if (str.startswith(var, \"h_\")) or (str.startswith(var, \"diH_\"))]\n",
    "regFeatures = [var for var in trainFeatures if (str.startswith(var, \"reg\"))]\n",
    "regBFeatures = [var for var in trainFeatures if (str.startswith(var, \"regB_\"))]\n",
    "regTauFeatures = [var for var in trainFeatures if (str.startswith(var, \"regTau_\"))]\n",
    "regBDiHiggs = [var for var in regBFeatures if (str.startswith(var, \"regB_diH_\"))]\n",
    "regTauDiHiggs = [var for var in regTauFeatures if (str.startswith(var, \"regTau_diH_\"))]\n",
    "diHiggsFeatures = [var for var in trainFeatures if (str.startswith(var, \"diH_\"))]\n",
    "regBasis = [var[var.find(\"_\")+1:] for var in regFeatures]\n",
    "massFeatures = [var for var in trainFeatures if \"_mass\" in var]\n",
    "epFeatures = [var for var in trainFeatures if (str.endswith(var, \"_E\")) or (str.endswith(var, \"_|p|\"))]\n",
    "fsFeatures =  [var for var in trainFeatures if var not in  shapeFeatures + pTEtaPhi + hlFeatures + recoFeatures]\n",
    "reducedFSFeatures = [var for var in fsFeatures if var not in regBasis]\n",
    "reducedRecoFeatures = [var for var in recoFeatures if var not in regBasis]"
   ]
  },
  {
   "cell_type": "code",
   "execution_count": 26,
   "metadata": {
    "collapsed": true
   },
   "outputs": [],
   "source": [
    "set0 = [var for var in fsFeatures + recoFeatures if var not in pTEtaPhi + regBFeatures + regTauFeatures] + ['hl_mT']\n",
    "set1 = [var for var in reducedFSFeatures + reducedRecoFeatures if var not in pTEtaPhi + regBDiHiggs] + ['hl_mT']"
   ]
  },
  {
   "cell_type": "markdown",
   "metadata": {},
   "source": [
    "## Specify options"
   ]
  },
  {
   "cell_type": "code",
   "execution_count": 27,
   "metadata": {
    "scrolled": false
   },
   "outputs": [
    {
     "name": "stdout",
     "output_type": "stream",
     "text": [
      "\n",
      "Training on 52 features: ['t_0_mass', 'b_0_mass', 'b_1_mass', 'mT', 'hT', 'sT', 'centrality', 'eVis', 'mass', 'mPT_px', 'mPT_py', 'mPT_|p|', 't_1_mT', 'regB_b_0_px', 'regB_b_0_py', 'regB_b_0_pz', 'regB_b_1_px', 'regB_b_1_py', 'regB_b_1_pz', 'regB_b_0_|p|', 'regB_b_0_E', 'regB_b_1_|p|', 'regB_b_1_E', 'regB_h_bb_px', 'regB_h_bb_py', 'regB_h_bb_pz', 'regB_h_bb_E', 'regB_h_bb_|p|', 'regB_h_bb_mass', 'regTau_t_0_px', 'regTau_t_0_py', 'regTau_t_0_pz', 'regTau_t_1_px', 'regTau_t_1_py', 'regTau_t_1_pz', 'regTau_t_0_|p|', 'regTau_t_0_E', 'regTau_t_1_|p|', 'regTau_t_1_E', 'regTau_h_tt_px', 'regTau_h_tt_py', 'regTau_h_tt_pz', 'regTau_h_tt_E', 'regTau_h_tt_|p|', 'regTau_h_tt_mass', 'regTau_diH_px', 'regTau_diH_py', 'regTau_diH_pz', 'regTau_diH_E', 'regTau_diH_|p|', 'regTau_diH_mass', 'hl_mT']\n",
      "\n",
      "Regressing to 3 features: ['gen_diH_px', 'gen_diH_py', 'gen_diH_pz']\n"
     ]
    }
   ],
   "source": [
    "regTrainFeatures = set1\n",
    "regModel = 'model0'\n",
    "normIn = True\n",
    "normOut = True\n",
    "pca = True\n",
    "whiten = False\n",
    "nSplits = 10\n",
    "cvTests = True\n",
    "ensembleSize = 10\n",
    "ensembleMode = 'loss'\n",
    "regTargetFeatures = ['gen_diH_px', 'gen_diH_py', 'gen_diH_pz']\n",
    "print \"\\nTraining on\", len(regTrainFeatures), \"features:\", [var for var in regTrainFeatures]\n",
    "print \"\\nRegressing to\", len(regTargetFeatures), \"features:\", [var for var in regTargetFeatures]"
   ]
  },
  {
   "cell_type": "code",
   "execution_count": 28,
   "metadata": {},
   "outputs": [
    {
     "name": "stdout",
     "output_type": "stream",
     "text": [
      "3928 events for training, 174533 events for validation\n"
     ]
    }
   ],
   "source": [
    "devData = data.loc[sig_devIndeces].copy()\n",
    "valData = data.loc[sig_valIndeces].copy()\n",
    "valData = valData.append(data[data.gen_target == 0].copy(), ignore_index = True)\n",
    "valData = valData.append(data[(data.gen_target == 1) & (data.gen_mctMatch == 0)].copy(), ignore_index = True)\n",
    "sig = (valData.gen_target == 1) & (valData.gen_mctMatch == 1)\n",
    "bkg = (valData.gen_target == 0)\n",
    "sigMM = (valData.gen_target == 1) & (valData.gen_mctMatch == 0)\n",
    "print \"{0} events for training, {1} events for validation\".format(len(devData), len(valData))"
   ]
  },
  {
   "cell_type": "markdown",
   "metadata": {},
   "source": [
    "## Define regressor"
   ]
  },
  {
   "cell_type": "code",
   "execution_count": 29,
   "metadata": {
    "collapsed": true
   },
   "outputs": [],
   "source": [
    "def getLayout(params):\n",
    "    architecture = int(params[0])\n",
    "    nodes = int(params[1])\n",
    "    depth = int(params[2])\n",
    "    layout = np.zeros(depth).astype(int)\n",
    "    if architecture == 0: #Box: same number of nodes in each layer\n",
    "        layout.fill(nodes)\n",
    "    if architecture == 1: #Taper: linear reduction of width with depth\n",
    "        coef = (len(regTargetFeatures)-nodes)/(depth+1)\n",
    "        for l in range(depth):\n",
    "            layout[l] = nodes+(coef*l)\n",
    "    if architecture == 2: #Choke: linear reduction down to Noutputs at centre layer\n",
    "        centre = int(math.ceil(depth/2))\n",
    "        coefRed = (len(regTargetFeatures)-nodes)/(centre)\n",
    "        coefInc = (nodes-len(regTargetFeatures))/(depth-centre)\n",
    "        mod = -1\n",
    "        if (depth % 2 == 0) and (depth != 2):\n",
    "            mod = 1\n",
    "        for l in range(centre+mod):\n",
    "            layout[l] = nodes+(coefRed*l)\n",
    "        for l in range(centre+mod, depth):\n",
    "            layout[l] = len(regTargetFeatures)+(coefInc*(l-centre+1))\n",
    "    if architecture == 3: #Funnel: linearly reduces to Noutputs at centre layer then moves to box layput\n",
    "        centre = int(math.ceil(depth/2))\n",
    "        coefRed = (len(regTargetFeatures)-nodes)/(centre)\n",
    "        mod = -1\n",
    "        if (depth % 2 == 0) and (depth != 2):\n",
    "            mod = 1\n",
    "        for l in range(centre+mod):\n",
    "            layout[l] = nodes+(coefRed*l)\n",
    "        for l in range(centre+mod, depth):\n",
    "            layout[l] = len(regTargetFeatures)\n",
    "    return layout"
   ]
  },
  {
   "cell_type": "code",
   "execution_count": 30,
   "metadata": {
    "collapsed": true,
    "scrolled": true
   },
   "outputs": [],
   "source": [
    "def getParameterisedRegressor(params):\n",
    "    params = params.tolist()\n",
    "    noise = params[0]\n",
    "    dropout = params[1]\n",
    "    layers = getLayout(params[2:])\n",
    "    regModel = Sequential()\n",
    "    regModel.add(Dense(int(layers[0]), input_dim=len(regTrainFeatures), init='glorot_normal'))\n",
    "    regModel.add(PReLU())\n",
    "    regModel.add(GaussianNoise(noise))\n",
    "    regModel.add(BatchNormalization())\n",
    "    regModel.add(Dropout(dropout))\n",
    "    for i in layers[1:]:\n",
    "        if i < len(regTargetFeatures): break\n",
    "        regModel.add(Dense(int(i), init='glorot_normal'))\n",
    "        regModel.add(PReLU())\n",
    "        regModel.add(GaussianNoise(noise))\n",
    "        regModel.add(BatchNormalization())\n",
    "        regModel.add(Dropout(dropout))\n",
    "    regModel.add(Dense(len(regTargetFeatures), activation='linear', init='glorot_normal'))\n",
    "    regModel.compile(loss='mse', optimizer='nadam')\n",
    "    modelVersion = \"model0\"\n",
    "    return regModel"
   ]
  },
  {
   "cell_type": "code",
   "execution_count": 31,
   "metadata": {
    "collapsed": true
   },
   "outputs": [],
   "source": [
    "compileArgs = {'loss' : 'mse', 'optimizer' : 'nadam'}\n",
    "\n",
    "def getRegressor(model):\n",
    "    regModel = Sequential()\n",
    "    if model == \"model0\":\n",
    "        regModel.add(Dense(100, input_dim=len(regTrainFeatures), kernel_initializer='he_normal', activation='selu'))\n",
    "        regModel.add(Dense(100, kernel_initializer='he_normal', activation='selu'))\n",
    "        regModel.add(Dense(100, kernel_initializer='he_normal', activation='selu'))\n",
    "        regModel.add(Dense(100, kernel_initializer='he_normal', activation='selu'))\n",
    "        regModel.add(Dense(100, kernel_initializer='he_normal', activation='selu'))\n",
    "        regModel.add(Dense(len(regTargetFeatures), activation='linear', kernel_initializer='glorot_normal'))\n",
    "    elif model == \"model1\":\n",
    "        regModel.add(Dense(100, input_dim=len(regTrainFeatures), kernel_initializer='he_normal'))\n",
    "        regModel.add(PReLU())\n",
    "        regModel.add(Dense(100, kernel_initializer='he_normal'))\n",
    "        regModel.add(PReLU())\n",
    "        regModel.add(Dense(100, kernel_initializer='he_normal'))\n",
    "        regModel.add(PReLU())\n",
    "        regModel.add(Dense(len(regTargetFeatures), activation='linear', kernel_initializer='glorot_normal'))\n",
    "    elif model == \"model2\":\n",
    "        regModel.add(Dense(100, input_dim=len(regTrainFeatures), kernel_initializer='he_normal'))\n",
    "        regModel.add(PReLU())\n",
    "        regModel.add(BatchNormalization())\n",
    "        regModel.add(Dense(100, kernel_initializer='he_normal'))\n",
    "        regModel.add(PReLU())\n",
    "        regModel.add(BatchNormalization())\n",
    "        regModel.add(Dense(100, kernel_initializer='he_normal'))\n",
    "        regModel.add(PReLU())\n",
    "        regModel.add(BatchNormalization())\n",
    "        regModel.add(Dense(len(regTargetFeatures), activation='linear', kernel_initializer='glorot_normal'))\n",
    "    elif model == \"model3\":\n",
    "        regModel.add(Dense(100, input_dim=len(regTrainFeatures), kernel_initializer='he_normal'))\n",
    "        regModel.add(BatchNormalization())\n",
    "        regModel.add(PReLU())\n",
    "        regModel.add(Dense(100, kernel_initializer='he_normal'))\n",
    "        regModel.add(BatchNormalization())\n",
    "        regModel.add(PReLU())\n",
    "        regModel.add(Dense(100, kernel_initializer='he_normal'))\n",
    "        regModel.add(BatchNormalization())\n",
    "        regModel.add(PReLU())\n",
    "        regModel.add(Dense(len(regTargetFeatures), activation='linear', kernel_initializer='glorot_normal'))\n",
    "    elif model == \"model4\":\n",
    "        regModel.add(Dense(100, input_dim=len(regTrainFeatures), kernel_initializer='he_normal'))\n",
    "        regModel.add(PReLU())\n",
    "        regModel.add(BatchNormalization())\n",
    "        regModel.add(Dense(100, kernel_initializer='he_normal'))\n",
    "        regModel.add(PReLU())\n",
    "        regModel.add(BatchNormalization())\n",
    "        regModel.add(Dense(100, kernel_initializer='he_normal'))\n",
    "        regModel.add(PReLU())\n",
    "        regModel.add(BatchNormalization())\n",
    "        regModel.add(Dense(len(regTargetFeatures), activation='linear', kernel_initializer='glorot_uniform'))\n",
    "    elif model == \"model5\":\n",
    "        regModel.add(Dense(100, input_dim=len(regTrainFeatures), kernel_initializer='he_normal'))\n",
    "        regModel.add(PReLU())\n",
    "        regModel.add(BatchNormalization())\n",
    "        regModel.add(Dropout(0.1))\n",
    "        regModel.add(Dense(100, kernel_initializer='he_normal'))\n",
    "        regModel.add(PReLU())\n",
    "        regModel.add(BatchNormalization())\n",
    "        regModel.add(Dropout(0.1))\n",
    "        regModel.add(Dense(100, kernel_initializer='he_normal'))\n",
    "        regModel.add(PReLU())\n",
    "        regModel.add(BatchNormalization())\n",
    "        regModel.add(Dropout(0.1))\n",
    "        regModel.add(Dense(len(regTargetFeatures), activation='linear', kernel_initializer='glorot_normal'))\n",
    "    elif model == \"model6\":\n",
    "        regModel.add(Dense(150, input_dim=len(regTrainFeatures), kernel_initializer='he_normal'))\n",
    "        regModel.add(PReLU())\n",
    "        regModel.add(BatchNormalization())\n",
    "        regModel.add(Dropout(0.1))\n",
    "        regModel.add(Dense(120, kernel_initializer='he_normal'))\n",
    "        regModel.add(PReLU())\n",
    "        regModel.add(BatchNormalization())\n",
    "        regModel.add(Dropout(0.1))\n",
    "        regModel.add(Dense(100, kernel_initializer='he_normal'))\n",
    "        regModel.add(PReLU())\n",
    "        regModel.add(BatchNormalization())\n",
    "        regModel.add(Dropout(0.1))\n",
    "        regModel.add(Dense(len(regTargetFeatures), activation='linear', kernel_initializer='glorot_normal')) \n",
    "    elif model == \"model7\":\n",
    "        regModel.add(Dense(100, input_dim=len(regTrainFeatures), kernel_initializer='glorot_normal', activation='linear'))\n",
    "        regModel.add(Dense(100, kernel_initializer='glorot_normal', activation='linear'))\n",
    "        regModel.add(Dense(100, kernel_initializer='glorot_normal', activation='linear'))\n",
    "        regModel.add(Dense(len(regTargetFeatures), activation='linear', kernel_initializer='glorot_normal'))\n",
    "    elif model == \"model8\":\n",
    "        regModel.add(Dense(100, input_dim=len(regTrainFeatures), kernel_initializer='he_normal'))\n",
    "        regModel.add(PReLU())\n",
    "        regModel.add(BatchNormalization())\n",
    "        regModel.add(Dense(100, kernel_initializer='he_normal'))\n",
    "        regModel.add(PReLU())\n",
    "        regModel.add(BatchNormalization())\n",
    "        regModel.add(Dense(100, kernel_initializer='he_normal'))\n",
    "        regModel.add(PReLU())\n",
    "        regModel.add(Dense(len(regTargetFeatures), activation='linear', kernel_initializer='glorot_normal'))\n",
    "    elif model == \"model9\":\n",
    "        regModel.add(Dense(100, input_dim=len(regTrainFeatures), kernel_initializer='he_normal'))\n",
    "        regModel.add(ELU())\n",
    "        regModel.add(Dense(100, kernel_initializer='he_normal'))\n",
    "        regModel.add(ELU())\n",
    "        regModel.add(Dense(100, kernel_initializer='he_normal'))\n",
    "        regModel.add(ELU())\n",
    "        regModel.add(Dense(len(regTargetFeatures), activation='linear', kernel_initializer='glorot_normal'))\n",
    "    elif model == \"model10\":\n",
    "        regModel.add(Dense(100, input_dim=len(regTrainFeatures), kernel_initializer='he_normal'))\n",
    "        regModel.add(ELU())\n",
    "        regModel.add(BatchNormalization())\n",
    "        regModel.add(Dense(100, kernel_initializer='he_normal'))\n",
    "        regModel.add(ELU())\n",
    "        regModel.add(BatchNormalization())\n",
    "        regModel.add(Dense(100, kernel_initializer='he_normal'))\n",
    "        regModel.add(ELU())\n",
    "        regModel.add(BatchNormalization())\n",
    "        regModel.add(Dense(len(regTargetFeatures), activation='linear', kernel_initializer='glorot_normal'))\n",
    "    regModel.compile(**compileArgs)\n",
    "    return regModel"
   ]
  },
  {
   "cell_type": "markdown",
   "metadata": {},
   "source": [
    "## Evaluation"
   ]
  },
  {
   "cell_type": "markdown",
   "metadata": {},
   "source": [
    "### Preprocess data"
   ]
  },
  {
   "cell_type": "code",
   "execution_count": 32,
   "metadata": {
    "collapsed": true
   },
   "outputs": [],
   "source": [
    "stepsIn = []\n",
    "if not normIn and not pca:\n",
    "    stepsIn.append(('ident', StandardScaler(with_mean=False, with_std=False))) #For compatability\n",
    "else:\n",
    "    if normIn:\n",
    "        stepsIn.append(('normIn', StandardScaler()))\n",
    "    if pca:\n",
    "        stepsIn.append(('pca', PCA(whiten=whiten)))\n",
    "inputPipe = Pipeline(stepsIn)\n",
    "stepsOut = []\n",
    "if normOut:\n",
    "    stepsOut.append(('normOut', StandardScaler()))\n",
    "else:\n",
    "    stepsOut.append(('ident', StandardScaler(with_mean=False, with_std=False))) #For compatability\n",
    "outputPipe = Pipeline(stepsOut)"
   ]
  },
  {
   "cell_type": "code",
   "execution_count": 33,
   "metadata": {
    "collapsed": true
   },
   "outputs": [],
   "source": [
    "X_reg = inputPipe.fit_transform(devData[regTrainFeatures].values.astype(theano.config.floatX))\n",
    "y_reg = outputPipe.fit_transform(devData[regTargetFeatures].values.astype(theano.config.floatX))"
   ]
  },
  {
   "cell_type": "markdown",
   "metadata": {},
   "source": [
    "### Train regressors\n",
    "Train nSplit times to find best convergence"
   ]
  },
  {
   "cell_type": "code",
   "execution_count": 34,
   "metadata": {
    "collapsed": true
   },
   "outputs": [],
   "source": [
    "trainingData = (None, None)\n",
    "\n",
    "class LossHistory(Callback):\n",
    "    def on_train_begin(self, logs={}):\n",
    "        self.losses = {}\n",
    "        self.losses['loss'] = []\n",
    "        self.losses['val_loss'] = []\n",
    "\n",
    "    def on_epoch_end(self, epoch, logs={}):\n",
    "        self.losses['loss'].append(self.model.evaluate(trainingData[0], trainingData[1], verbose=0))\n",
    "        self.losses['val_loss'].append(logs.get('val_loss'))"
   ]
  },
  {
   "cell_type": "code",
   "execution_count": 35,
   "metadata": {
    "collapsed": true
   },
   "outputs": [],
   "source": [
    "trainParams = {'epochs' : 10000, 'batch_size' : 64, 'verbose' : 0}"
   ]
  },
  {
   "cell_type": "code",
   "execution_count": 36,
   "metadata": {
    "scrolled": false
   },
   "outputs": [
    {
     "name": "stdout",
     "output_type": "stream",
     "text": [
      "Running fold 1 / 10\n",
      "Epoch 00034: early stopping\n",
      "Score is: {'loss': 0.064380978032681169}\n",
      "Running fold 2 / 10\n",
      "Epoch 00035: early stopping\n",
      "Score is: {'loss': 0.061783472090277056}\n",
      "Running fold 3 / 10\n",
      "Epoch 00050: early stopping\n",
      "Score is: {'loss': 0.064170905708811662}\n",
      "Running fold 4 / 10\n",
      "Epoch 00099: early stopping\n",
      "Score is: {'loss': 0.036107879236302605}\n",
      "Running fold 5 / 10\n",
      "Epoch 00070: early stopping\n",
      "Score is: {'loss': 0.052898746704251411}\n",
      "Running fold 6 / 10\n",
      "Epoch 00063: early stopping\n",
      "Score is: {'loss': 0.04629285506543919}\n",
      "Running fold 7 / 10\n",
      "Epoch 00109: early stopping\n",
      "Score is: {'loss': 0.041126225759813194}\n",
      "Running fold 8 / 10\n",
      "Epoch 00105: early stopping\n",
      "Score is: {'loss': 0.051925695446763023}\n",
      "Running fold 9 / 10\n",
      "Epoch 00070: early stopping\n",
      "Score is: {'loss': 0.047669401354327491}\n",
      "Running fold 10 / 10\n",
      "Epoch 00096: early stopping\n",
      "Score is: {'loss': 0.045505899403776438}\n",
      "Cross-validation took 361.305s \n",
      "_________________________________________________________________\n",
      "Layer (type)                 Output Shape              Param #   \n",
      "=================================================================\n",
      "dense_67 (Dense)             (None, 100)               5300      \n",
      "_________________________________________________________________\n",
      "dense_68 (Dense)             (None, 100)               10100     \n",
      "_________________________________________________________________\n",
      "dense_69 (Dense)             (None, 100)               10100     \n",
      "_________________________________________________________________\n",
      "dense_70 (Dense)             (None, 100)               10100     \n",
      "_________________________________________________________________\n",
      "dense_71 (Dense)             (None, 100)               10100     \n",
      "_________________________________________________________________\n",
      "dense_72 (Dense)             (None, 3)                 303       \n",
      "=================================================================\n",
      "Total params: 46,003\n",
      "Trainable params: 46,003\n",
      "Non-trainable params: 0\n",
      "_________________________________________________________________\n"
     ]
    }
   ],
   "source": [
    "start = time.time()\n",
    "results = []\n",
    "histories = []\n",
    "os.system(\"rm train_weights/*.h5\")\n",
    "os.system(\"rm train_weights/*.json\")\n",
    "os.system(\"rm train_weights/*.pkl\")\n",
    "if cvTests:\n",
    "    kf = KFold(n_splits=nSplits, shuffle=True)\n",
    "    i = 0\n",
    "    for train, test in kf.split(X_reg):\n",
    "        i += 1\n",
    "        print \"Running fold\", i, \"/\", nSplits\n",
    "        model = None # Clearing the NN\n",
    "        model = getRegressor(regModel)\n",
    "        model.reset_states #Just checking\n",
    "        trainingData = (X_reg[train], y_reg[train])\n",
    "        lossHistory = LossHistory()\n",
    "        earlyStop = EarlyStopping(monitor='val_loss', patience=10, verbose=1, mode='auto')\n",
    "        saveBest = ModelCheckpoint(\"train_weights/best.h5\", monitor='val_loss', verbose=0, save_best_only=True, save_weights_only=True, mode='auto', period=1)\n",
    "        model.fit(X_reg[train], y_reg[train],\n",
    "                  validation_data = (X_reg[test], y_reg[test]),\n",
    "                  callbacks = [earlyStop, saveBest, lossHistory],\n",
    "                  **trainParams)\n",
    "        histories.append(lossHistory.losses)\n",
    "        model.load_weights(\"train_weights/best.h5\")\n",
    "        results.append({})\n",
    "        results[-1]['loss'] = model.evaluate(X_reg[test], y_reg[test], verbose=0)\n",
    "        print \"Score is:\", results[-1]\n",
    "        model.save('train_weights/train_' + str(i-1) + '.h5')\n",
    "else :\n",
    "    for i in range(nSplits):\n",
    "        print \"Running fold\", i+1, \"/\", nSplits\n",
    "        model = None # Clearing the NN.\n",
    "        model = getRegressor(regModel)\n",
    "        model.reset_states #Just checking\n",
    "        earlyStop = EarlyStopping(monitor='loss', patience=10, verbose=1, mode='auto')\n",
    "        saveBest = ModelCheckpoint(\"train_weights/best.h5\", monitor='loss', verbose=0, save_best_only=True, save_weights_only=True, mode='auto', period=1)\n",
    "        histories.append(model.fit(X_reg, y_reg,\n",
    "                  callbacks = [earlyStop, saveBest],\n",
    "                  **trainParams))\n",
    "        model.load_weights(\"train_weights/best.h5\")\n",
    "        results.append({})\n",
    "        results[-1]['loss'] = model.evaluate(X_reg, y_reg, verbose=0)\n",
    "        print \"Score is:\", results[-1]\n",
    "        model.save('train_weights/train_' + str(i) + '.h5')\n",
    "with open('train_weights/resultsFile.pkl', 'w') as fout:\n",
    "    pickle.dump(results, fout)\n",
    "print \"Cross-validation took {:.3f}s \".format(time.time() - start)\n",
    "X_reg = None\n",
    "y_reg = None\n",
    "train = None\n",
    "test = None\n",
    "model.summary()\n",
    "model = None"
   ]
  },
  {
   "cell_type": "markdown",
   "metadata": {},
   "source": [
    "### Plot training histories"
   ]
  },
  {
   "cell_type": "code",
   "execution_count": 37,
   "metadata": {},
   "outputs": [
    {
     "data": {
      "text/plain": [
       "<matplotlib.text.Text at 0x7f29d6bd3fd0>"
      ]
     },
     "execution_count": 37,
     "metadata": {},
     "output_type": "execute_result"
    },
    {
     "data": {
      "image/png": "[encoded data removed]",
      "text/plain": [
       "<matplotlib.figure.Figure at 0x7f29d565cb90>"
      ]
     },
     "metadata": {},
     "output_type": "display_data"
    }
   ],
   "source": [
    "plt.figure(figsize=(16,8))\n",
    "if cvTests:\n",
    "    for i, history in enumerate(histories):\n",
    "        if i == 0:\n",
    "            plt.plot(history['loss'], color='g', label='Training')\n",
    "            plt.plot(history['val_loss'], color='b', label='Testing')\n",
    "        else:\n",
    "            plt.plot(history['loss'], color='g')\n",
    "            plt.plot(history['val_loss'], color='b')\n",
    "    plt.legend(fontsize=16)\n",
    "else:\n",
    "    for history in histories:\n",
    "        plt.plot(history.history['loss'])\n",
    "plt.xlabel(\"Epoch\", fontsize=24, color='black')\n",
    "plt.ylabel(\"MSE\", fontsize=24, color='black')"
   ]
  },
  {
   "cell_type": "markdown",
   "metadata": {},
   "source": [
    "## Construct ensemble"
   ]
  },
  {
   "cell_type": "code",
   "execution_count": 38,
   "metadata": {
    "collapsed": true
   },
   "outputs": [],
   "source": [
    "results = None\n",
    "with open('train_weights/resultsFile.pkl', 'r') as fin:   \n",
    "    results = pickle.load(fin)"
   ]
  },
  {
   "cell_type": "code",
   "execution_count": 39,
   "metadata": {
    "collapsed": true
   },
   "outputs": [],
   "source": [
    "def loadModel(cycle, location='train_weights/train_'):\n",
    "    cycle = int(cycle)\n",
    "    model = load_model(location + str(cycle) + '.h5')\n",
    "    model.compile(**compileArgs)\n",
    "    return model"
   ]
  },
  {
   "cell_type": "code",
   "execution_count": 40,
   "metadata": {
    "collapsed": true
   },
   "outputs": [],
   "source": [
    "def getWeights(value, met):\n",
    "    return 1/value"
   ]
  },
  {
   "cell_type": "code",
   "execution_count": 41,
   "metadata": {},
   "outputs": [
    {
     "name": "stdout",
     "output_type": "stream",
     "text": [
      "Choosing ensemble by loss\n",
      "Model 0 is 3 with loss = 0.0361078792363\n",
      "Model 1 is 6 with loss = 0.0411262257598\n",
      "Model 2 is 9 with loss = 0.0455058994038\n",
      "Model 3 is 5 with loss = 0.0462928550654\n",
      "Model 4 is 8 with loss = 0.0476694013543\n",
      "Model 5 is 7 with loss = 0.0519256954468\n",
      "Model 6 is 4 with loss = 0.0528987467043\n",
      "Model 7 is 1 with loss = 0.0617834720903\n",
      "Model 8 is 2 with loss = 0.0641709057088\n",
      "Model 9 is 0 with loss = 0.0643809780327\n"
     ]
    }
   ],
   "source": [
    "ensemble = []\n",
    "weights = []\n",
    "print \"Choosing ensemble by\", ensembleMode\n",
    "if ensembleMode == 'mix':\n",
    "    for met in results[0]:\n",
    "        print \"Choosing best for metric\", met\n",
    "        cycle = np.argmin([result[met] for result in results])\n",
    "        print met, \"Model\", \"is\", cycle, \"with\", met, \"=\", results[cycle][met]\n",
    "        ensemble.append(loadModel(cycle))\n",
    "        weights.append(1)\n",
    "else:\n",
    "    dtype = [('cycle', int), ('result', float)]\n",
    "    values = np.sort(np.array([(i, result[ensembleMode]) for i, result in enumerate(results)], dtype=dtype),\n",
    "                     order=['result'])\n",
    "    for i in range(min([ensembleSize, len(results)])):\n",
    "        ensemble.append(loadModel(values[i]['cycle']))\n",
    "        weights.append(getWeights(values[i]['result'], ensembleMode))\n",
    "        print \"Model\", i, \"is\", values[i]['cycle'], \"with\", ensembleMode, \"=\", values[i]['result']\n",
    "weights = np.array(weights)\n",
    "weights = weights/weights.sum() #normalise weights"
   ]
  },
  {
   "cell_type": "markdown",
   "metadata": {},
   "source": [
    "## Save/load"
   ]
  },
  {
   "cell_type": "code",
   "execution_count": 42,
   "metadata": {},
   "outputs": [
    {
     "name": "stdout",
     "output_type": "stream",
     "text": [
      "weights/NN_HH_Mom_Regressor_App_mu_tau_b_b_\n"
     ]
    }
   ],
   "source": [
    "name = \"weights/NN_HH_Mom_Regressor_App_\" + mode + \"_\" \n",
    "print name"
   ]
  },
  {
   "cell_type": "markdown",
   "metadata": {},
   "source": [
    "### Save"
   ]
  },
  {
   "cell_type": "code",
   "execution_count": 43,
   "metadata": {
    "collapsed": true
   },
   "outputs": [],
   "source": [
    "os.system(\"rm \" + name + \"*.json\")\n",
    "os.system(\"rm \" + name + \"*.h5\")\n",
    "os.system(\"rm \" + name + \"*.pkl\")\n",
    "for i, model in enumerate(ensemble):\n",
    "    json_string = model.to_json()\n",
    "    open(name + '_' + str(i) + '.json', 'w').write(json_string)\n",
    "    model.save_weights(name + '_' + str(i) + '.h5')\n",
    "with open(name + '_compile.json', 'w') as fout:\n",
    "    json.dump(compileArgs, fout)\n",
    "with open(name + '_weights.pkl', 'w') as fout:\n",
    "    pickle.dump(weights, fout)\n",
    "with open(name + '_inputPipe.pkl', 'w') as fout:\n",
    "    pickle.dump(inputPipe, fout)\n",
    "with open(name + '_outputPipe.pkl', 'w') as fout:\n",
    "    pickle.dump(outputPipe, fout)"
   ]
  },
  {
   "cell_type": "markdown",
   "metadata": {},
   "source": [
    "## Response of ensemble on development data"
   ]
  },
  {
   "cell_type": "markdown",
   "metadata": {},
   "source": [
    "###  Preprocess data"
   ]
  },
  {
   "cell_type": "code",
   "execution_count": 44,
   "metadata": {
    "collapsed": true
   },
   "outputs": [],
   "source": [
    "X_dev = inputPipe.transform(devData[regTrainFeatures].values.astype(theano.config.floatX))"
   ]
  },
  {
   "cell_type": "markdown",
   "metadata": {},
   "source": [
    "### Get response"
   ]
  },
  {
   "cell_type": "code",
   "execution_count": 45,
   "metadata": {
    "collapsed": true
   },
   "outputs": [],
   "source": [
    "pred = np.zeros((len(devData), len(regTargetFeatures)))\n",
    "for i, model in enumerate(ensemble):\n",
    "    pred += weights[i]*outputPipe.inverse_transform(model.predict(X_dev, verbose=0)) \n",
    "for n, feature in enumerate(regTargetFeatures):\n",
    "    devData['regHH_' + feature[4:]] = pandas.Series(pred[:,n], index=devData.index)"
   ]
  },
  {
   "cell_type": "markdown",
   "metadata": {},
   "source": [
    "### Evaluate response"
   ]
  },
  {
   "cell_type": "code",
   "execution_count": 46,
   "metadata": {},
   "outputs": [
    {
     "name": "stderr",
     "output_type": "stream",
     "text": [
      "/home/goncalo/anaconda2/lib/python2.7/site-packages/ipykernel_launcher.py:3: DeprecationWarning: \n",
      ".ix is deprecated. Please use\n",
      ".loc for label based indexing or\n",
      ".iloc for positional indexing\n",
      "\n",
      "See the documentation here:\n",
      "http://pandas.pydata.org/pandas-docs/stable/indexing.html#deprecate_ix\n",
      "  This is separate from the ipykernel package so we can avoid doing imports until\n",
      "/home/goncalo/anaconda2/lib/python2.7/site-packages/pandas/core/indexing.py:992: DeprecationWarning: \n",
      ".ix is deprecated. Please use\n",
      ".loc for label based indexing or\n",
      ".iloc for positional indexing\n",
      "\n",
      "See the documentation here:\n",
      "http://pandas.pydata.org/pandas-docs/stable/indexing.html#deprecate_ix\n",
      "  return getattr(section, self.name)[new_key]\n",
      "/home/goncalo/anaconda2/lib/python2.7/site-packages/pandas/core/indexing.py:992: DeprecationWarning: \n",
      ".ix is deprecated. Please use\n",
      ".loc for label based indexing or\n",
      ".iloc for positional indexing\n",
      "\n",
      "See the documentation here:\n",
      "http://pandas.pydata.org/pandas-docs/stable/indexing.html#deprecate_ix\n",
      "  return getattr(section, self.name)[new_key]\n",
      "/home/goncalo/anaconda2/lib/python2.7/site-packages/pandas/core/indexing.py:992: DeprecationWarning: \n",
      ".ix is deprecated. Please use\n",
      ".loc for label based indexing or\n",
      ".iloc for positional indexing\n",
      "\n",
      "See the documentation here:\n",
      "http://pandas.pydata.org/pandas-docs/stable/indexing.html#deprecate_ix\n",
      "  return getattr(section, self.name)[new_key]\n",
      "/home/goncalo/anaconda2/lib/python2.7/site-packages/pandas/core/indexing.py:992: DeprecationWarning: \n",
      ".ix is deprecated. Please use\n",
      ".loc for label based indexing or\n",
      ".iloc for positional indexing\n",
      "\n",
      "See the documentation here:\n",
      "http://pandas.pydata.org/pandas-docs/stable/indexing.html#deprecate_ix\n",
      "  return getattr(section, self.name)[new_key]\n",
      "/home/goncalo/anaconda2/lib/python2.7/site-packages/pandas/core/indexing.py:992: DeprecationWarning: \n",
      ".ix is deprecated. Please use\n",
      ".loc for label based indexing or\n",
      ".iloc for positional indexing\n",
      "\n",
      "See the documentation here:\n",
      "http://pandas.pydata.org/pandas-docs/stable/indexing.html#deprecate_ix\n",
      "  return getattr(section, self.name)[new_key]\n",
      "/home/goncalo/anaconda2/lib/python2.7/site-packages/pandas/core/indexing.py:992: DeprecationWarning: \n",
      ".ix is deprecated. Please use\n",
      ".loc for label based indexing or\n",
      ".iloc for positional indexing\n",
      "\n",
      "See the documentation here:\n",
      "http://pandas.pydata.org/pandas-docs/stable/indexing.html#deprecate_ix\n",
      "  return getattr(section, self.name)[new_key]\n",
      "/home/goncalo/anaconda2/lib/python2.7/site-packages/pandas/core/indexing.py:992: DeprecationWarning: \n",
      ".ix is deprecated. Please use\n",
      ".loc for label based indexing or\n",
      ".iloc for positional indexing\n",
      "\n",
      "See the documentation here:\n",
      "http://pandas.pydata.org/pandas-docs/stable/indexing.html#deprecate_ix\n",
      "  return getattr(section, self.name)[new_key]\n",
      "/home/goncalo/anaconda2/lib/python2.7/site-packages/pandas/core/indexing.py:992: DeprecationWarning: \n",
      ".ix is deprecated. Please use\n",
      ".loc for label based indexing or\n",
      ".iloc for positional indexing\n",
      "\n",
      "See the documentation here:\n",
      "http://pandas.pydata.org/pandas-docs/stable/indexing.html#deprecate_ix\n",
      "  return getattr(section, self.name)[new_key]\n",
      "/home/goncalo/anaconda2/lib/python2.7/site-packages/pandas/core/indexing.py:992: DeprecationWarning: \n",
      ".ix is deprecated. Please use\n",
      ".loc for label based indexing or\n",
      ".iloc for positional indexing\n",
      "\n",
      "See the documentation here:\n",
      "http://pandas.pydata.org/pandas-docs/stable/indexing.html#deprecate_ix\n",
      "  return getattr(section, self.name)[new_key]\n",
      "/home/goncalo/anaconda2/lib/python2.7/site-packages/pandas/core/indexing.py:992: DeprecationWarning: \n",
      ".ix is deprecated. Please use\n",
      ".loc for label based indexing or\n",
      ".iloc for positional indexing\n",
      "\n",
      "See the documentation here:\n",
      "http://pandas.pydata.org/pandas-docs/stable/indexing.html#deprecate_ix\n",
      "  return getattr(section, self.name)[new_key]\n"
     ]
    },
    {
     "name": "stdout",
     "output_type": "stream",
     "text": [
      "Ensemble on dev data:\n",
      " Loss = 264.689894414\n"
     ]
    }
   ],
   "source": [
    "devData['loss_d'] = 0\n",
    "for n, feature in enumerate(regTargetFeatures):\n",
    "    devData.ix[:, 'loss_d'] += np.square(devData.ix[:, 'regHH_' + feature[4:]]-devData.ix[:, feature])\n",
    "print 'Ensemble on dev data:\\n Loss = {}'.format(np.mean(devData.ix[:, 'loss_d'])/len(regTargetFeatures))"
   ]
  },
  {
   "cell_type": "markdown",
   "metadata": {},
   "source": [
    "## Response of ensemble on validation data"
   ]
  },
  {
   "cell_type": "markdown",
   "metadata": {},
   "source": [
    "###  Preprocess data"
   ]
  },
  {
   "cell_type": "code",
   "execution_count": null,
   "metadata": {
    "collapsed": true
   },
   "outputs": [],
   "source": [
    "X_val = inputPipe.transform(valData[regTrainFeatures].values.astype(theano.config.floatX))"
   ]
  },
  {
   "cell_type": "markdown",
   "metadata": {},
   "source": [
    "### Get response"
   ]
  },
  {
   "cell_type": "code",
   "execution_count": null,
   "metadata": {
    "collapsed": true
   },
   "outputs": [],
   "source": [
    "pred = np.zeros((len(valData), len(regTargetFeatures)))\n",
    "for i, model in enumerate(ensemble):\n",
    "    pred += weights[i]*outputPipe.inverse_transform(model.predict(X_val, verbose=0)) \n",
    "for n, feature in enumerate(regTargetFeatures):\n",
    "    valData['regHH_' + feature[4:]] = pandas.Series(pred[:,n], index=valData.index)"
   ]
  },
  {
   "cell_type": "markdown",
   "metadata": {},
   "source": [
    "### Evaluate response"
   ]
  },
  {
   "cell_type": "code",
   "execution_count": null,
   "metadata": {
    "collapsed": true,
    "scrolled": true
   },
   "outputs": [],
   "source": [
    "valData['loss_v'] = 0\n",
    "for n, feature in enumerate(regTargetFeatures):\n",
    "    valData.ix[sig, 'loss_v'] += np.square(valData.ix[sig, 'regHH_' + feature[4:]]-valData.ix[sig, feature])\n",
    "print 'Ensemble on val data:\\n Loss = {}'.format(np.mean(valData.ix[sig, 'loss_v'])/len(regTargetFeatures))"
   ]
  },
  {
   "cell_type": "markdown",
   "metadata": {},
   "source": [
    "### Two-sample Kolmogorov–Smirnov test"
   ]
  },
  {
   "cell_type": "code",
   "execution_count": null,
   "metadata": {
    "collapsed": true
   },
   "outputs": [],
   "source": [
    "for n, feature in enumerate(regTargetFeatures):\n",
    "    print \n",
    "    print feature\n",
    "    ksTest = ks_2samp(valData[sig][feature].values, valData[sig]['regHH_' + feature[4:]].values)\n",
    "    print \"K-S test result {0:.4f}, p-value of {1:.4f}\".format(ksTest[0], ksTest[1])"
   ]
  },
  {
   "cell_type": "markdown",
   "metadata": {},
   "source": [
    "### Di-Higgs momenta distribution"
   ]
  },
  {
   "cell_type": "code",
   "execution_count": null,
   "metadata": {
    "collapsed": true
   },
   "outputs": [],
   "source": [
    "pltArgs = []\n",
    "for n, feature in enumerate(regTargetFeatures):\n",
    "    xPlot =  np.linspace(-600, 600, 500)[:, np.newaxis]\n",
    "    if 'pz' in feature:\n",
    "        xPlot = np.linspace(-1500, 1500, 500)[:, np.newaxis]\n",
    "    pltArgs += [{'data':valData.ix[sig, feature], 'x':xPlot, 'name':'gen_' + feature, 'kde':1, 'mean':1, 'std':1},\n",
    "                {'data':valData.ix[sig, feature[4:]], 'x':xPlot, 'name':'rec_' + feature, 'kde':1, 'mean':1, 'std':1},\n",
    "                {'data':valData.ix[sig, 'regHH_' + feature[4:]], 'x':xPlot, 'name':'reg_' + feature, 'kde':1, 'mean':1, 'std':1}]\n",
    "plots = mpRun(pltArgs)"
   ]
  },
  {
   "cell_type": "code",
   "execution_count": null,
   "metadata": {
    "collapsed": true
   },
   "outputs": [],
   "source": [
    "for n, feature in enumerate(regTargetFeatures):\n",
    "    xPlot =  np.linspace(-600, 600, 500)[:, np.newaxis]\n",
    "    if 'pz' in feature:\n",
    "        xPlot = np.linspace(-1500, 1500, 500)[:, np.newaxis]\n",
    "    var = \"p_{x,hh}\"\n",
    "    if \"py\" in feature:\n",
    "        var = \"p_{y,hh}\"\n",
    "    if \"pz\" in feature:\n",
    "        var = \"p_{z,hh}\"\n",
    "    if \"_1_\" in feature:\n",
    "        var = var[:-1] + \"1\"\n",
    "    plt.figure(figsize=(8, 6))\n",
    "    sns.kdeplot(data=valData.ix[sig, feature])\n",
    "    sns.kdeplot(data=valData.ix[sig, feature[4:]])\n",
    "    sns.kdeplot(data=valData.ix[sig, 'regHH_' + feature[4:]])\n",
    "    plt.legend(fontsize=16)\n",
    "    plt.xlabel(r\"$\" + var + r\"\\ [GeV]$\", fontsize=24, color='black')\n",
    "    plt.ylabel(r\"$\\frac{1}{N}\\ \\frac{dN}{d\" + var + r\"}\\ [GeV^{-1}]$\", fontsize=24, color='black')\n",
    "plt.show()"
   ]
  },
  {
   "cell_type": "markdown",
   "metadata": {},
   "source": [
    "### Momentum pull distributions"
   ]
  },
  {
   "cell_type": "code",
   "execution_count": null,
   "metadata": {
    "collapsed": true
   },
   "outputs": [],
   "source": [
    "pltArgs = []\n",
    "for n, feature in enumerate(regTargetFeatures):\n",
    "    xPlot =  np.linspace(-100, 100, 400)[:, np.newaxis]\n",
    "    if 'pz' in feature:\n",
    "        xPlot = np.linspace(-150, 150, 600)[:, np.newaxis]\n",
    "    pltArgs += [{'data':valData.ix[sig, feature[4:]]-valData.ix[sig, feature], 'x':xPlot, 'name':'rec_' + feature, 'kde':1, 'mean':1, 'std':1},\n",
    "                {'data':valData.ix[sig, 'regHH_' + feature[4:]]-valData.ix[sig, feature], 'x':xPlot, 'name':'reg_' + feature, 'kde':1, 'mean':1, 'std':1}]\n",
    "plots = mpRun(pltArgs)"
   ]
  },
  {
   "cell_type": "code",
   "execution_count": null,
   "metadata": {
    "collapsed": true
   },
   "outputs": [],
   "source": [
    "for n, feature in enumerate(regTargetFeatures):\n",
    "    xPlot =  np.linspace(-100, 100, 400)[:, np.newaxis]\n",
    "    if 'pz' in feature:\n",
    "        xPlot = np.linspace(-150, 150, 600)[:, np.newaxis]\n",
    "    var = \"p_{x,hh\"\n",
    "    if \"py\" in feature:\n",
    "        var = \"p_{y,hh\"\n",
    "    if \"pz\" in feature:\n",
    "        var = \"p_{z,hh\"\n",
    "    if \"_1_\" in feature:\n",
    "        var = var[:-1] + \"1\"\n",
    "    plt.figure(figsize=(8, 6))\n",
    "    mean = (np.mean(plots['rec_' + feature + '_mean']),\n",
    "            np.std(plots['rec_' + feature + '_mean'])/math.sqrt(len(plots['rec_' + feature + '_mean'])))\n",
    "    stdev = (np.mean(plots['rec_' + feature + '_std']),\n",
    "             np.std(plots['rec_' + feature + '_std'])/math.sqrt(len(plots['rec_' + feature + '_std'])))\n",
    "    print \"Reco:\\t{}\\t{} +- {}\\t{} +- {}\".format(feature[4:], mean[0], mean[1], stdev[0], stdev[1])\n",
    "    sns.kdeplot(data=valData.ix[sig, feature[4:]]-valData.ix[sig, feature])\n",
    "    mean = (np.mean(plots['reg_' + feature + '_mean']),\n",
    "            np.std(plots['reg_' + feature + '_mean'])/math.sqrt(len(plots['reg_' + feature + '_mean'])))\n",
    "    stdev = (np.mean(plots['reg_' + feature + '_std']),\n",
    "             np.std(plots['reg_' + feature + '_std'])/math.sqrt(len(plots['reg_' + feature + '_std'])))\n",
    "    print \"Reg:\\t{}\\t{} +- {}\\t{} +- {}\".format(feature[4:], mean[0], mean[1], stdev[0], stdev[1])\n",
    "    sns.kdeplot(data=valData.ix[sig, 'regHH_' + feature[4:]]-valData.ix[sig, feature])\n",
    "    plt.legend(fontsize=16)\n",
    "    plt.xlabel(r\"$\" + var + r\",\\mathrm{Est.}}-\" + var + r\",\\mathrm{True}}\\ [GeV]$\", fontsize=24, color='black')\n",
    "    plt.ylabel(r\"$\\frac{1}{N}\\ \\frac{dN}{d\\Delta \" + var + r\"}}\\ [GeV^{-1}]$\", fontsize=24, color='black')\n",
    "plt.show()"
   ]
  },
  {
   "cell_type": "markdown",
   "metadata": {},
   "source": [
    "## Save/load"
   ]
  },
  {
   "cell_type": "code",
   "execution_count": null,
   "metadata": {
    "collapsed": true
   },
   "outputs": [],
   "source": [
    "name = \"weights/NN_HH_Mom_Regressor_App_\" + mode + \"_\" \n",
    "print name"
   ]
  },
  {
   "cell_type": "markdown",
   "metadata": {},
   "source": [
    "### Save"
   ]
  },
  {
   "cell_type": "code",
   "execution_count": null,
   "metadata": {
    "collapsed": true
   },
   "outputs": [],
   "source": [
    "os.system(\"rm \" + name + \"*.json\")\n",
    "os.system(\"rm \" + name + \"*.h5\")\n",
    "os.system(\"rm \" + name + \"*.pkl\")\n",
    "for i, model in enumerate(ensemble):\n",
    "    json_string = model.to_json()\n",
    "    open(name + '_' + str(i) + '.json', 'w').write(json_string)\n",
    "    model.save_weights(name + '_' + str(i) + '.h5')\n",
    "with open(name + '_compile.json', 'w') as fout:\n",
    "    json.dump(compileArgs, fout)\n",
    "with open(name + '_weights.pkl', 'w') as fout:\n",
    "    pickle.dump(weights, fout)\n",
    "with open(name + '_inputPipe.pkl', 'w') as fout:\n",
    "    pickle.dump(inputPipe, fout)\n",
    "with open(name + '_outputPipe.pkl', 'w') as fout:\n",
    "    pickle.dump(outputPipe, fout)"
   ]
  },
  {
   "cell_type": "markdown",
   "metadata": {},
   "source": [
    "### Load"
   ]
  },
  {
   "cell_type": "code",
   "execution_count": null,
   "metadata": {
    "collapsed": true
   },
   "outputs": [],
   "source": [
    "ensemble = []\n",
    "weights = None\n",
    "inputPipe = None\n",
    "outputPipe = None\n",
    "compileArgs = None\n",
    "with open(name + '_compile.json', 'r') as fin:\n",
    "    compileArgs = json.load(fin)\n",
    "for i in range(ensembleSize):\n",
    "    model = model_from_json(open(name + '_' + str(i) + '.json').read())\n",
    "    model.load_weights(name + \"_\" + str(i) + '.h5')\n",
    "    model.compile(**compileArgs)\n",
    "    ensemble.append(model)\n",
    "with open(name + '_weights.pkl', 'r') as fin:\n",
    "    weights = pickle.load(fin)\n",
    "with open(name + '_inputPipe.pkl', 'r') as fin:\n",
    "    inputPipe = pickle.load(fin)\n",
    "with open(name + '_outputPipe.pkl', 'r') as fin:\n",
    "    outputPipe = pickle.load(fin)"
   ]
  },
  {
   "cell_type": "code",
   "execution_count": null,
   "metadata": {
    "collapsed": true
   },
   "outputs": [],
   "source": []
  }
 ],
 "metadata": {
  "kernelspec": {
   "display_name": "Python 2",
   "language": "python",
   "name": "python2"
  },
  "language_info": {
   "codemirror_mode": {
    "name": "ipython",
    "version": 2
   },
   "file_extension": ".py",
   "mimetype": "text/x-python",
   "name": "python",
   "nbconvert_exporter": "python",
   "pygments_lexer": "ipython2",
   "version": "2.7.13"
  }
 },
 "nbformat": 4,
 "nbformat_minor": 1
}
