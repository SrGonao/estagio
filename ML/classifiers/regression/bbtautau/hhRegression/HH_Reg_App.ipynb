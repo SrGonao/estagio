{
 "cells": [
  {
   "cell_type": "markdown",
   "metadata": {},
   "source": [
    "# Di-Higgs regressor final training"
   ]
  },
  {
   "cell_type": "markdown",
   "metadata": {},
   "source": [
    "## Import"
   ]
  },
  {
   "cell_type": "markdown",
   "metadata": {},
   "source": [
    "### Import modules"
   ]
  },
  {
   "cell_type": "code",
   "execution_count": 1,
   "metadata": {},
   "outputs": [
    {
     "name": "stderr",
     "output_type": "stream",
     "text": [
      "/home/goncalo/anaconda2/lib/python2.7/site-packages/statsmodels/compat/pandas.py:56: FutureWarning: The pandas.core.datetools module is deprecated and will be removed in a future version. Please use the pandas.tseries module instead.\n",
      "  from pandas.core import datetools\n",
      "Using Theano backend.\n"
     ]
    }
   ],
   "source": [
    "import theano\n",
    "import statsmodels.api as sm\n",
    "%matplotlib inline\n",
    "import matplotlib.pyplot as plt\n",
    "import numpy as np\n",
    "import pandas\n",
    "import math\n",
    "from sklearn.model_selection import train_test_split\n",
    "from sklearn.decomposition import PCA\n",
    "from sklearn.model_selection import KFold\n",
    "from sklearn.preprocessing import StandardScaler\n",
    "from sklearn.metrics import roc_curve, roc_auc_score\n",
    "import xgboost as xgb\n",
    "import time\n",
    "from keras.models import Sequential\n",
    "from keras.layers import Dense, Activation, Dropout, GaussianNoise, BatchNormalization, Merge\n",
    "from keras.layers.advanced_activations import ELU, PReLU\n",
    "from keras.models import model_from_json\n",
    "from keras.callbacks import EarlyStopping, ModelCheckpoint, Callback\n",
    "from keras.models import load_model\n",
    "from keras import backend as K\n",
    "from __future__ import division ,print_function\n",
    "import theano.tensor as T\n",
    "from scipy.stats import ks_2samp\n",
    "import scipy.misc\n",
    "import seaborn as sns\n",
    "sns.set_style(\"white\")\n",
    "import os\n",
    "from sklearn.pipeline import Pipeline\n",
    "import json\n",
    "import glob\n",
    "import pickle\n",
    "from sklearn.externals import joblib\n",
    "import seaborn as sns\n",
    "import sys\n",
    "sys.path.append('../../../../modules')\n",
    "from MPPlot import *\n",
    "from Processors import *\n",
    "import warnings\n",
    "with warnings.catch_warnings():\n",
    "    warnings.filterwarnings('ignore')\n",
    "sys.path.append('../')\n",
    "from Regression_Application import *\n"
   ]
  },
  {
   "cell_type": "markdown",
   "metadata": {},
   "source": [
    "### Import data\n",
    "Here just looking at mu tau_h b b final-state"
   ]
  },
  {
   "cell_type": "code",
   "execution_count": 54,
   "metadata": {},
   "outputs": [
    {
     "name": "stdout",
     "output_type": "stream",
     "text": [
      "Samples contains 10417 signal events and 168053 background events\n",
      "178470 events in total\n"
     ]
    }
   ],
   "source": [
    "mode = \"mu_tau_b_b\"\n",
    "loc = '../../../../data_n/'\n",
    "SignalData = []\n",
    "BackgroundData = []\n",
    "\n",
    "energies = [260,270,280,300,320,400,500,550,600,700]\n",
    "backgrounds = ['TT' , 'WJetsToLNu']\n",
    "Data = np.concatenate((energies,backgrounds))\n",
    "\n",
    "\n",
    "\n",
    " #Load data from CSV files\n",
    "for energy in energies:\n",
    "    signaldata = pandas.read_csv(loc + \"GluGluToRadionToHHTo2B2Tau_M-\" + str(energy) +\"_narrow_13TeV-madgraph.csv\")\n",
    "    signaldata['mass'] = energy\n",
    "    SignalData.append(signaldata)\n",
    "\n",
    "\n",
    "for back in backgrounds:\n",
    "    backgroundData = pandas.read_csv(loc + back + \"_TuneCUETP8M1_13TeV.csv\")\n",
    "    backgroundData['mass'] = 0\n",
    "    BackgroundData.append(backgroundData)    \n",
    "     \n",
    "    \n",
    "signalData = SignalData[0]\n",
    "for signal_data in SignalData[1:]:\n",
    "    signalData = signalData.append(signal_data, ignore_index=True)    \n",
    "signalData.drop([x for x in signalData.columns if 'Unnamed' in x], axis=1, inplace=True)    \n",
    "signalData['gen_target'] = pandas.Series(np.ones(signalData.size))\n",
    "backgroundData = BackgroundData[0]\n",
    "for background_data in BackgroundData[1:]:\n",
    "    backgroundData = backgroundData.append(background_data, ignore_index=True)    \n",
    "backgroundData.drop([x for x in backgroundData.columns if 'Unnamed' in x], axis=1, inplace=True)    \n",
    "backgroundData['gen_target'] = pandas.Series(np.zeros(backgroundData.size))\n",
    "\n",
    "print(\"Samples contains {0} signal events and {1} background events\".format(len(signalData), len(backgroundData)))\n",
    "print(\"{} events in total\".format(len(signalData)+len(backgroundData)))\n",
    "data = signalData.append(backgroundData, ignore_index = True) #Combine into signal dataset\n",
    "def cleanData(X):\n",
    "    \"\"\"\n",
    "    Recives data and labels (X and y)\n",
    "    \n",
    "    Returns: X, y after removing points that would fail to convert to float32 \n",
    "    \"\"\"\n",
    "    \n",
    "    over  = (X > np.finfo(np.float32).max)\n",
    "    under = (X < np.finfo(np.float32).min)\n",
    "    selecting = pandas.Series(np.zeros(len(X)), dtype=np.bool)\n",
    "\n",
    "    for label in over.columns:\n",
    "        if label != 'gen_label':\n",
    "            selecting = selecting | over[label] | under[label]\n",
    "    \n",
    "    \n",
    "    X = X[np.logical_not(selecting)].reset_index(drop=True)#.values.astype('float32')\n",
    "    \n",
    "    return X\n",
    "\n",
    "\n",
    "data = cleanData(data)"
   ]
  },
  {
   "cell_type": "markdown",
   "metadata": {},
   "source": [
    "## Configure data"
   ]
  },
  {
   "cell_type": "markdown",
   "metadata": {},
   "source": [
    "### Create development and validation samples"
   ]
  },
  {
   "cell_type": "code",
   "execution_count": 55,
   "metadata": {},
   "outputs": [],
   "source": [
    "particles = ['t_0', 't_1', 'b_0', 'b_1', 'h_tt', 'h_bb', 'diH', 'gen_t_0', 'gen_t_1', 'gen_b_0' ,'gen_b_1']\n",
    "\n",
    "for p in particles:\n",
    "    moveToCartesian(data, p) #Move pT, eta, and phi to p_x, p_y, and p_z\n",
    "    if(not str.startswith(p, \"gen\")):\n",
    "        addEnergy(data, p) #Calculate energy and absolute momentum\n",
    " \n",
    "\n",
    "moveToCartesian(data, 'mPT', False)  #Move Missing pT and phi to p_x and p_y\n",
    "addAbsMom(data, 'mPT', False) #Calculate absolute missing transverse momentum\n",
    "addMT(data, data['t_1_pT'], data['t_1_phi'], 't_1') #Calculate transverse mass of tau_mu\n",
    "data['hl_mT'] = np.sqrt(2*data['t_1_pT']*data['mPT_pT']*(1-np.cos(deltaphi(data['t_1_phi'], data['mPT_phi']))))"
   ]
  },
  {
   "cell_type": "code",
   "execution_count": 56,
   "metadata": {},
   "outputs": [
    {
     "name": "stdout",
     "output_type": "stream",
     "text": [
      "3928 events for training, 174533 events for validation\n"
     ]
    }
   ],
   "source": [
    "sig_devIndeces, sig_valIndeces = \\\n",
    "                train_test_split([i for i in data[(data.gen_target == 1) & (data.gen_mctMatch == 1)].index.tolist()],\n",
    "                                 test_size=0.2, random_state=1337)\n",
    "\n",
    "    \n",
    "devData = data.loc[sig_devIndeces].copy()\n",
    "#devData = devData.append(data.loc[bkg_devIndeces].copy(), ignore_index = True)\n",
    "valData = data.loc[sig_valIndeces].copy()\n",
    "valData = valData.append(data[data.gen_target == 0].copy(), ignore_index = True)\n",
    "valData = valData.append(data[(data.gen_target == 1) & (data.gen_mctMatch == 0)].copy(), ignore_index = True)\n",
    "sig = (valData.gen_target == 1) & (valData.gen_mctMatch == 1)\n",
    "bkg = (valData.gen_target == 0)\n",
    "sigMM = (valData.gen_target == 1) & (valData.gen_mctMatch == 0)\n",
    "\n",
    "print(\"{} events for training, {} events for validation\".format(len(devData), len(valData)))\n"
   ]
  },
  {
   "cell_type": "markdown",
   "metadata": {},
   "source": [
    "### Apply regressors"
   ]
  },
  {
   "cell_type": "code",
   "execution_count": 57,
   "metadata": {},
   "outputs": [
    {
     "name": "stdout",
     "output_type": "stream",
     "text": [
      "10 components found in ensemble\n"
     ]
    }
   ],
   "source": [
    "bRegressor = BPairRegressor(data, \"../bRegression/weights/NN_B_Regressor_App_\" + mode + \"_\" , mode)\n",
    "bRegressor.evalResponse()\n",
    "bRegressor.getExtraVariables()\n",
    "bRegressor.refineDiHiggsVector()"
   ]
  },
  {
   "cell_type": "code",
   "execution_count": 58,
   "metadata": {},
   "outputs": [
    {
     "name": "stdout",
     "output_type": "stream",
     "text": [
      "10 components found in ensemble\n"
     ]
    }
   ],
   "source": [
    "tauRegressor = TauPairRegressor(data, \"../tauRegression/weights/NN_Tau_Regressor_App_\" + mode + \"_\" , mode)\n",
    "tauRegressor.evalResponse()\n",
    "tauRegressor.getExtraVariables()\n",
    "tauRegressor.refineDiHiggsVector()"
   ]
  },
  {
   "cell_type": "code",
   "execution_count": 59,
   "metadata": {},
   "outputs": [
    {
     "name": "stdout",
     "output_type": "stream",
     "text": [
      "10 components found in ensemble\n"
     ]
    },
    {
     "name": "stderr",
     "output_type": "stream",
     "text": [
      "../Regression_Application.py:118: DeprecationWarning: \n",
      ".ix is deprecated. Please use\n",
      ".loc for label based indexing or\n",
      ".iloc for positional indexing\n",
      "\n",
      "See the documentation here:\n",
      "http://pandas.pydata.org/pandas-docs/stable/indexing.html#deprecate_ix\n",
      "  self.data[prefix + '|p|'] = np.sqrt(np.square(self.data.ix[:, prefix + 'px'])+np.square(self.data.ix[:, prefix + 'py'])+np.square(self.data.ix[:, prefix + 'pz']))\n",
      "/home/goncalo/anaconda2/lib/python2.7/site-packages/pandas/core/indexing.py:992: DeprecationWarning: \n",
      ".ix is deprecated. Please use\n",
      ".loc for label based indexing or\n",
      ".iloc for positional indexing\n",
      "\n",
      "See the documentation here:\n",
      "http://pandas.pydata.org/pandas-docs/stable/indexing.html#deprecate_ix\n",
      "  return getattr(section, self.name)[new_key]\n",
      "/home/goncalo/anaconda2/lib/python2.7/site-packages/pandas/core/indexing.py:992: DeprecationWarning: \n",
      ".ix is deprecated. Please use\n",
      ".loc for label based indexing or\n",
      ".iloc for positional indexing\n",
      "\n",
      "See the documentation here:\n",
      "http://pandas.pydata.org/pandas-docs/stable/indexing.html#deprecate_ix\n",
      "  return getattr(section, self.name)[new_key]\n",
      "/home/goncalo/anaconda2/lib/python2.7/site-packages/pandas/core/indexing.py:992: DeprecationWarning: \n",
      ".ix is deprecated. Please use\n",
      ".loc for label based indexing or\n",
      ".iloc for positional indexing\n",
      "\n",
      "See the documentation here:\n",
      "http://pandas.pydata.org/pandas-docs/stable/indexing.html#deprecate_ix\n",
      "  return getattr(section, self.name)[new_key]\n",
      "/home/goncalo/anaconda2/lib/python2.7/site-packages/pandas/core/indexing.py:992: DeprecationWarning: \n",
      ".ix is deprecated. Please use\n",
      ".loc for label based indexing or\n",
      ".iloc for positional indexing\n",
      "\n",
      "See the documentation here:\n",
      "http://pandas.pydata.org/pandas-docs/stable/indexing.html#deprecate_ix\n",
      "  return getattr(section, self.name)[new_key]\n",
      "/home/goncalo/anaconda2/lib/python2.7/site-packages/pandas/core/indexing.py:992: DeprecationWarning: \n",
      ".ix is deprecated. Please use\n",
      ".loc for label based indexing or\n",
      ".iloc for positional indexing\n",
      "\n",
      "See the documentation here:\n",
      "http://pandas.pydata.org/pandas-docs/stable/indexing.html#deprecate_ix\n",
      "  return getattr(section, self.name)[new_key]\n"
     ]
    }
   ],
   "source": [
    "hhMomRegressor = HHMomRegressor(data, \"../hhMomRegression/weights/NN_HH_Mom_Regressor_App_\" + mode + \"_\" , mode)\n",
    "hhMomRegressor.evalResponse()\n",
    "hhMomRegressor.getExtraVariables()"
   ]
  },
  {
   "cell_type": "markdown",
   "metadata": {},
   "source": [
    "### Specify variables"
   ]
  },
  {
   "cell_type": "code",
   "execution_count": 60,
   "metadata": {
    "collapsed": true
   },
   "outputs": [],
   "source": [
    "data.rename(columns={'weight': 'gen_weight'}, inplace=True)\n",
    "genFeatures = [gen for gen in data.columns if str.startswith(gen, \"gen\")]\n",
    "trainFeatures = [var for var in data.columns if var not in genFeatures]\n",
    "pTEtaPhi = [var for var in trainFeatures for x in ['pT', 'eta', 'phi'] if x in var]\n",
    "other = [var for var in trainFeatures for x in [ 'csv', 'diH_kinFit_prob'] if x in var]\n",
    "trainFeatures = [var for var in trainFeatures if var not in pTEtaPhi + other]"
   ]
  },
  {
   "cell_type": "code",
   "execution_count": 61,
   "metadata": {},
   "outputs": [],
   "source": [
    "globalKinFeatures = [var for var in trainFeatures if (str.startswith(var, \"min\")) or (str.startswith(var, \"mean\")) or (str.startswith(var, \"max\"))] + ['hT', 'sT', 'eVis']\n",
    "globalMultiFeatures = [var for var in trainFeatures if (str.startswith(var, \"n\"))]\n",
    "globalShapeFeatures = ['centrality', 'sphericityA', 'spherocityA', 'aplanarityA', 'aplanorityA', 'upsilonA', 'dShapeA']\n",
    "primaryShapeFeatures = ['sphericityP', 'spherocityP', 'aplanarityP', 'aplanorityP', 'upsilonP', 'dShapeP']\n",
    "globalFeatures = globalKinFeatures + globalMultiFeatures + globalShapeFeatures\n",
    "shapeFeatures = globalShapeFeatures + primaryShapeFeatures\n",
    "pTEtaPhi = [var for var in trainFeatures if (str.endswith(var, \"_pT\")) or (str.endswith(var, \"_phi\")) or (str.endswith(var, \"_eta\"))]\n",
    "hlFeatures = [var for var in trainFeatures if (str.startswith(var, \"hl_\"))]\n",
    "recoFeatures = [var for var in trainFeatures if (str.startswith(var, \"h_\")) or (str.startswith(var, \"diH_\"))]\n",
    "regFeatures = [var for var in trainFeatures if (str.startswith(var, \"reg\"))]\n",
    "regBFeatures = [var for var in trainFeatures if (str.startswith(var, \"regB_\"))]\n",
    "regTauFeatures = [var for var in trainFeatures if (str.startswith(var, \"regTau_\"))]\n",
    "regHHMomFeatures = [var for var in trainFeatures if (str.startswith(var, \"regHH_\"))]\n",
    "regBDiHiggs = [var for var in regBFeatures if (str.startswith(var, \"regB_diH_\"))]\n",
    "regTauDiHiggs = [var for var in regTauFeatures if (str.startswith(var, \"regTau_diH_\"))]\n",
    "diHiggsFeatures = [var for var in trainFeatures if (str.startswith(var, \"diH_\"))]\n",
    "regBasis = [var[var.find(\"_\")+1:] for var in regFeatures]\n",
    "massFeatures = [var for var in trainFeatures if \"_mass\" in var]\n",
    "epFeatures = [var for var in trainFeatures if (str.endswith(var, \"_E\")) or (str.endswith(var, \"_|p|\"))]\n",
    "fsFeatures =  [var for var in trainFeatures if var not in globalFeatures + shapeFeatures + pTEtaPhi + hlFeatures + recoFeatures]\n",
    "reducedFSFeatures = [var for var in fsFeatures if var not in regBasis]\n",
    "reducedRecoFeatures = [var for var in recoFeatures if var not in regBasis]"
   ]
  },
  {
   "cell_type": "code",
   "execution_count": 62,
   "metadata": {},
   "outputs": [],
   "source": [
    "set0 = [var for var in fsFeatures + recoFeatures if var not in pTEtaPhi + regBFeatures + regTauFeatures + regHHMomFeatures] + ['hl_mT']\n",
    "set1 = [var for var in reducedFSFeatures + reducedRecoFeatures if var not in pTEtaPhi + regBDiHiggs + regHHMomFeatures] + ['hl_mT']\n",
    "set2 = [var for var in reducedFSFeatures + reducedRecoFeatures if var not in pTEtaPhi + regBDiHiggs + regTauDiHiggs] + ['hl_mT'] + ['regTau_diH_mass']"
   ]
  },
  {
   "cell_type": "markdown",
   "metadata": {},
   "source": [
    "## Specify options"
   ]
  },
  {
   "cell_type": "code",
   "execution_count": 63,
   "metadata": {
    "scrolled": false
   },
   "outputs": [
    {
     "name": "stdout",
     "output_type": "stream",
     "text": [
      "\n",
      "Training on 63 features: ['t_0_mass', 't_1_mass', 'b_0_mass', 'b_1_mass', 'mT', 'sphericity', 'spherocity', 'aplanarity', 'aplanority', 'upsilon', 'dShape', 'sphericityEigen0', 'sphericityEigen1', 'sphericityEigen2', 'spherocityEigen0', 'spherocityEigen1', 'spherocityEigen2', 'mass', 'mPT_px', 'mPT_py', 'mPT_|p|', 't_1_mT', 'regB_b_0_px', 'regB_b_0_py', 'regB_b_0_pz', 'regB_b_1_px', 'regB_b_1_py', 'regB_b_1_pz', 'regB_b_0_|p|', 'regB_b_0_E', 'regB_b_1_|p|', 'regB_b_1_E', 'regB_h_bb_px', 'regB_h_bb_py', 'regB_h_bb_pz', 'regB_h_bb_E', 'regB_h_bb_|p|', 'regB_h_bb_mass', 'regTau_t_0_px', 'regTau_t_0_py', 'regTau_t_0_pz', 'regTau_t_1_px', 'regTau_t_1_py', 'regTau_t_1_pz', 'regTau_t_0_|p|', 'regTau_t_0_E', 'regTau_t_1_|p|', 'regTau_t_1_E', 'regTau_h_tt_px', 'regTau_h_tt_py', 'regTau_h_tt_pz', 'regTau_h_tt_E', 'regTau_h_tt_|p|', 'regTau_h_tt_mass', 'regHH_diH_px', 'regHH_diH_py', 'regHH_diH_pz', 'regHH_diH_|p|', 'regHH_diH_E', 'h_tt_svFit_mass', 'diH_kinFit_mass', 'hl_mT', 'regTau_diH_mass']\n",
      "\n",
      "Regressing to 1 features: ['gen_diH_mass']\n"
     ]
    }
   ],
   "source": [
    "regTrainFeatures = set2\n",
    "regModel = 'model1'\n",
    "normIn = True\n",
    "normOut = True\n",
    "pca = True\n",
    "whiten = False\n",
    "nSplits = 10\n",
    "cvTests = True\n",
    "ensembleSize = 10\n",
    "ensembleMode = 'loss'\n",
    "regTargetFeatures = ['gen_diH_mass']\n",
    "print (\"\\nTraining on\", len(regTrainFeatures), \"features:\", [var for var in regTrainFeatures])\n",
    "print (\"\\nRegressing to\", len(regTargetFeatures), \"features:\", [var for var in regTargetFeatures])"
   ]
  },
  {
   "cell_type": "code",
   "execution_count": 64,
   "metadata": {},
   "outputs": [
    {
     "name": "stdout",
     "output_type": "stream",
     "text": [
      "3928 events for training, 174533 events for validation\n"
     ]
    }
   ],
   "source": [
    "devData = data.loc[sig_devIndeces].copy()\n",
    "valData = data.loc[sig_valIndeces].copy()\n",
    "valData = valData.append(data[data.gen_target == 0].copy(), ignore_index = True)\n",
    "valData = valData.append(data[(data.gen_target == 1) & (data.gen_mctMatch == 0)].copy(), ignore_index = True)\n",
    "sig = (valData.gen_target == 1) & (valData.gen_mctMatch == 1)\n",
    "bkg = (valData.gen_target == 0)\n",
    "sigMM = (valData.gen_target == 1) & (valData.gen_mctMatch == 0)\n",
    "print (\"{0} events for training, {1} events for validation\".format(len(devData), len(valData)))"
   ]
  },
  {
   "cell_type": "markdown",
   "metadata": {},
   "source": [
    "## Define regressor"
   ]
  },
  {
   "cell_type": "code",
   "execution_count": 65,
   "metadata": {},
   "outputs": [],
   "source": [
    "def getLayout(params):\n",
    "    architecture = int(params[0])\n",
    "    nodes = int(params[1])\n",
    "    depth = int(params[2])\n",
    "    layout = np.zeros(depth).astype(int)\n",
    "    if architecture == 0: #Box: same number of nodes in each layer\n",
    "        layout.fill(nodes)\n",
    "    if architecture == 1: #Taper: linear reduction of width with depth\n",
    "        coef = (len(regTargetFeatures)-nodes)/(depth+1)\n",
    "        for l in range(depth):\n",
    "            layout[l] = nodes+(coef*l)\n",
    "    if architecture == 2: #Choke: linear reduction down to Noutputs at centre layer\n",
    "        centre = int(math.ceil(depth/2))\n",
    "        coefRed = (len(regTargetFeatures)-nodes)/(centre)\n",
    "        coefInc = (nodes-len(regTargetFeatures))/(depth-centre)\n",
    "        mod = -1\n",
    "        if (depth % 2 == 0) and (depth != 2):\n",
    "            mod = 1\n",
    "        for l in range(centre+mod):\n",
    "            layout[l] = nodes+(coefRed*l)\n",
    "        for l in range(centre+mod, depth):\n",
    "            layout[l] = len(regTargetFeatures)+(coefInc*(l-centre+1))\n",
    "    if architecture == 3: #Funnel: linearly reduces to Noutputs at centre layer then moves to box layput\n",
    "        centre = int(math.ceil(depth/2))\n",
    "        coefRed = (len(regTargetFeatures)-nodes)/(centre)\n",
    "        mod = -1\n",
    "        if (depth % 2 == 0) and (depth != 2):\n",
    "            mod = 1\n",
    "        for l in range(centre+mod):\n",
    "            layout[l] = nodes+(coefRed*l)\n",
    "        for l in range(centre+mod, depth):\n",
    "            layout[l] = len(regTargetFeatures)\n",
    "    return layout"
   ]
  },
  {
   "cell_type": "code",
   "execution_count": 66,
   "metadata": {
    "scrolled": true
   },
   "outputs": [],
   "source": [
    "def getParameterisedRegressor(params):\n",
    "    params = params.tolist()\n",
    "    noise = params[0]\n",
    "    dropout = params[1]\n",
    "    layers = getLayout(params[2:])\n",
    "    regModel = Sequential()\n",
    "    regModel.add(Dense(int(layers[0]), input_dim=len(regTrainFeatures), init='glorot_normal'))\n",
    "    regModel.add(PReLU())\n",
    "    regModel.add(GaussianNoise(noise))\n",
    "    regModel.add(BatchNormalization())\n",
    "    regModel.add(Dropout(dropout))\n",
    "    for i in layers[1:]:\n",
    "        if i < len(regTargetFeatures): break\n",
    "        regModel.add(Dense(int(i), init='glorot_normal'))\n",
    "        regModel.add(PReLU())\n",
    "        regModel.add(GaussianNoise(noise))\n",
    "        regModel.add(BatchNormalization())\n",
    "        regModel.add(Dropout(dropout))\n",
    "    regModel.add(Dense(len(regTargetFeatures), activation='linear', init='glorot_normal'))\n",
    "    regModel.compile(loss='mse', optimizer='nadam')\n",
    "    modelVersion = \"model0\"\n",
    "    return regModel"
   ]
  },
  {
   "cell_type": "code",
   "execution_count": 67,
   "metadata": {},
   "outputs": [],
   "source": [
    "compileArgs = {'loss' : 'mse', 'optimizer' : 'nadam'}\n",
    "\n",
    "def getRegressor(model):\n",
    "    regModel = Sequential()\n",
    "    if model == \"model0\":\n",
    "        regModel.add(Dense(100, input_dim=len(regTrainFeatures), kernel_initializer='he_normal', activation='relu'))\n",
    "        regModel.add(Dense(100, kernel_initializer='he_normal', activation='relu'))\n",
    "        regModel.add(Dense(100, kernel_initializer='he_normal', activation='relu'))\n",
    "        regModel.add(Dense(len(regTargetFeatures), activation='linear', kernel_initializer='glorot_normal'))\n",
    "    elif model == \"model1\":\n",
    "        regModel.add(Dense(100, input_dim=len(regTrainFeatures), kernel_initializer='he_normal'))\n",
    "        regModel.add(PReLU())\n",
    "        regModel.add(Dense(100, kernel_initializer='he_normal'))\n",
    "        regModel.add(PReLU())\n",
    "        regModel.add(Dense(100, kernel_initializer='he_normal'))\n",
    "        regModel.add(PReLU())\n",
    "        regModel.add(Dense(len(regTargetFeatures), activation='linear', kernel_initializer='glorot_normal'))\n",
    "    elif model == \"model2\":\n",
    "        regModel.add(Dense(100, input_dim=len(regTrainFeatures), kernel_initializer='he_normal'))\n",
    "        regModel.add(PReLU())\n",
    "        regModel.add(BatchNormalization())\n",
    "        regModel.add(Dense(100, kernel_initializer='he_normal'))\n",
    "        regModel.add(PReLU())\n",
    "        regModel.add(BatchNormalization())\n",
    "        regModel.add(Dense(100, kernel_initializer='he_normal'))\n",
    "        regModel.add(PReLU())\n",
    "        regModel.add(BatchNormalization())\n",
    "        regModel.add(Dense(len(regTargetFeatures), activation='linear', kernel_initializer='glorot_normal'))\n",
    "    elif model == \"model3\":\n",
    "        regModel.add(Dense(100, input_dim=len(regTrainFeatures), kernel_initializer='he_normal'))\n",
    "        regModel.add(BatchNormalization())\n",
    "        regModel.add(PReLU())\n",
    "        regModel.add(Dense(100, kernel_initializer='he_normal'))\n",
    "        regModel.add(BatchNormalization())\n",
    "        regModel.add(PReLU())\n",
    "        regModel.add(Dense(100, kernel_initializer='he_normal'))\n",
    "        regModel.add(BatchNormalization())\n",
    "        regModel.add(PReLU())\n",
    "        regModel.add(Dense(len(regTargetFeatures), activation='linear', kernel_initializer='glorot_normal'))\n",
    "    elif model == \"model4\":\n",
    "        regModel.add(Dense(100, input_dim=len(regTrainFeatures), kernel_initializer='he_normal'))\n",
    "        regModel.add(PReLU())\n",
    "        regModel.add(BatchNormalization())\n",
    "        regModel.add(Dense(100, kernel_initializer='he_normal'))\n",
    "        regModel.add(PReLU())\n",
    "        regModel.add(BatchNormalization())\n",
    "        regModel.add(Dense(100, kernel_initializer='he_normal'))\n",
    "        regModel.add(PReLU())\n",
    "        regModel.add(BatchNormalization())\n",
    "        regModel.add(Dense(len(regTargetFeatures), activation='linear', kernel_initializer='glorot_uniform'))\n",
    "    elif model == \"model5\":\n",
    "        regModel.add(Dense(100, input_dim=len(regTrainFeatures), kernel_initializer='he_normal'))\n",
    "        regModel.add(PReLU())\n",
    "        regModel.add(BatchNormalization())\n",
    "        regModel.add(Dropout(0.1))\n",
    "        regModel.add(Dense(100, kernel_initializer='he_normal'))\n",
    "        regModel.add(PReLU())\n",
    "        regModel.add(BatchNormalization())\n",
    "        regModel.add(Dropout(0.1))\n",
    "        regModel.add(Dense(100, kernel_initializer='he_normal'))\n",
    "        regModel.add(PReLU())\n",
    "        regModel.add(BatchNormalization())\n",
    "        regModel.add(Dropout(0.1))\n",
    "        regModel.add(Dense(len(regTargetFeatures), activation='linear', kernel_initializer='glorot_normal'))\n",
    "    elif model == \"model6\":\n",
    "        regModel.add(Dense(150, input_dim=len(regTrainFeatures), kernel_initializer='he_normal'))\n",
    "        regModel.add(PReLU())\n",
    "        regModel.add(BatchNormalization())\n",
    "        regModel.add(Dropout(0.1))\n",
    "        regModel.add(Dense(120, kernel_initializer='he_normal'))\n",
    "        regModel.add(PReLU())\n",
    "        regModel.add(BatchNormalization())\n",
    "        regModel.add(Dropout(0.1))\n",
    "        regModel.add(Dense(100, kernel_initializer='he_normal'))\n",
    "        regModel.add(PReLU())\n",
    "        regModel.add(BatchNormalization())\n",
    "        regModel.add(Dropout(0.1))\n",
    "        regModel.add(Dense(len(regTargetFeatures), activation='linear', kernel_initializer='glorot_normal')) \n",
    "    elif model == \"model7\":\n",
    "        regModel.add(Dense(100, input_dim=len(regTrainFeatures), kernel_initializer='glorot_normal', activation='linear'))\n",
    "        regModel.add(Dense(100, kernel_initializer='glorot_normal', activation='linear'))\n",
    "        regModel.add(Dense(100, kernel_initializer='glorot_normal', activation='linear'))\n",
    "        regModel.add(Dense(len(regTargetFeatures), activation='linear', kernel_initializer='glorot_normal'))\n",
    "    elif model == \"model8\":\n",
    "        regModel.add(Dense(100, input_dim=len(regTrainFeatures), kernel_initializer='he_normal'))\n",
    "        regModel.add(PReLU())\n",
    "        regModel.add(BatchNormalization())\n",
    "        regModel.add(Dense(100, kernel_initializer='he_normal'))\n",
    "        regModel.add(PReLU())\n",
    "        regModel.add(BatchNormalization())\n",
    "        regModel.add(Dense(100, kernel_initializer='he_normal'))\n",
    "        regModel.add(PReLU())\n",
    "        regModel.add(Dense(len(regTargetFeatures), activation='linear', kernel_initializer='glorot_normal'))\n",
    "    elif model == \"model9\":\n",
    "        regModel.add(Dense(100, input_dim=len(regTrainFeatures), kernel_initializer='he_normal'))\n",
    "        regModel.add(ELU())\n",
    "        regModel.add(Dense(100, kernel_initializer='he_normal'))\n",
    "        regModel.add(ELU())\n",
    "        regModel.add(Dense(100, kernel_initializer='he_normal'))\n",
    "        regModel.add(ELU())\n",
    "        regModel.add(Dense(len(regTargetFeatures), activation='linear', kernel_initializer='glorot_normal'))\n",
    "    elif model == \"model10\":\n",
    "        regModel.add(Dense(100, input_dim=len(regTrainFeatures), kernel_initializer='he_normal'))\n",
    "        regModel.add(ELU())\n",
    "        regModel.add(BatchNormalization())\n",
    "        regModel.add(Dense(100, kernel_initializer='he_normal'))\n",
    "        regModel.add(ELU())\n",
    "        regModel.add(BatchNormalization())\n",
    "        regModel.add(Dense(100, kernel_initializer='he_normal'))\n",
    "        regModel.add(ELU())\n",
    "        regModel.add(BatchNormalization())\n",
    "        regModel.add(Dense(len(regTargetFeatures), activation='linear', kernel_initializer='glorot_normal'))\n",
    "    regModel.compile(**compileArgs)\n",
    "    return regModel"
   ]
  },
  {
   "cell_type": "markdown",
   "metadata": {},
   "source": [
    "## Evaluation"
   ]
  },
  {
   "cell_type": "markdown",
   "metadata": {},
   "source": [
    "### Calculate pull"
   ]
  },
  {
   "cell_type": "code",
   "execution_count": 68,
   "metadata": {
    "collapsed": true
   },
   "outputs": [],
   "source": [
    "def getResponse(pred, act):\n",
    "    pull = pred[:,0]-act\n",
    "    return (pull.mean(), pull.std())"
   ]
  },
  {
   "cell_type": "markdown",
   "metadata": {},
   "source": [
    "### Preprocess data"
   ]
  },
  {
   "cell_type": "code",
   "execution_count": 69,
   "metadata": {},
   "outputs": [],
   "source": [
    "stepsIn = []\n",
    "if not normIn and not pca:\n",
    "    stepsIn.append(('ident', StandardScaler(with_mean=False, with_std=False))) #For compatability\n",
    "else:\n",
    "    if normIn:\n",
    "        stepsIn.append(('normIn', StandardScaler()))\n",
    "    if pca:\n",
    "        stepsIn.append(('pca', PCA(whiten=whiten)))\n",
    "inputPipe = Pipeline(stepsIn)\n",
    "stepsOut = []\n",
    "if normOut:\n",
    "    stepsOut.append(('normOut', StandardScaler()))\n",
    "else:\n",
    "    stepsOut.append(('ident', StandardScaler(with_mean=False, with_std=False))) #For compatability\n",
    "outputPipe = Pipeline(stepsOut)"
   ]
  },
  {
   "cell_type": "code",
   "execution_count": 70,
   "metadata": {},
   "outputs": [],
   "source": [
    "X_reg = inputPipe.fit_transform(devData[regTrainFeatures].values.astype(theano.config.floatX))\n",
    "y_reg = outputPipe.fit_transform(devData[regTargetFeatures].values.astype(theano.config.floatX))"
   ]
  },
  {
   "cell_type": "markdown",
   "metadata": {},
   "source": [
    "### Train regressors\n",
    "Train nSplit times to find best convergence"
   ]
  },
  {
   "cell_type": "code",
   "execution_count": 71,
   "metadata": {
    "collapsed": true
   },
   "outputs": [],
   "source": [
    "trainingData = (None, None)\n",
    "\n",
    "class LossHistory(Callback):\n",
    "    def on_train_begin(self, logs={}):\n",
    "        self.losses = {}\n",
    "        self.losses['loss'] = []\n",
    "        self.losses['val_loss'] = []\n",
    "\n",
    "    def on_epoch_end(self, epoch, logs={}):\n",
    "        self.losses['loss'].append(self.model.evaluate(trainingData[0], trainingData[1], verbose=0))\n",
    "        self.losses['val_loss'].append(logs.get('val_loss'))"
   ]
  },
  {
   "cell_type": "code",
   "execution_count": 72,
   "metadata": {
    "collapsed": true
   },
   "outputs": [],
   "source": [
    "trainParams = {'epochs' : 10000, 'batch_size' : 64, 'verbose' : 0}"
   ]
  },
  {
   "cell_type": "code",
   "execution_count": 73,
   "metadata": {
    "scrolled": false
   },
   "outputs": [
    {
     "name": "stdout",
     "output_type": "stream",
     "text": [
      "Running fold 1 / 10\n",
      "Epoch 00176: early stopping\n",
      "Score is: {'std': 203.87997, 'loss': 0.00080660367209781862, 'mean': 0.14027669}\n",
      "Running fold 2 / 10\n",
      "Epoch 00185: early stopping\n",
      "Score is: {'std': 188.26836, 'loss': 0.00040262061616751834, 'mean': 0.31913608}\n",
      "Running fold 3 / 10\n",
      "Epoch 00197: early stopping\n",
      "Score is: {'std': 203.30058, 'loss': 0.00041194006339433597, 'mean': 0.051175367}\n",
      "Running fold 4 / 10\n",
      "Epoch 00230: early stopping\n",
      "Score is: {'std': 205.87537, 'loss': 0.00024774717863141997, 'mean': -0.027468765}\n",
      "Running fold 5 / 10\n",
      "Epoch 00138: early stopping\n",
      "Score is: {'std': 200.63838, 'loss': 0.0011186116874459704, 'mean': -0.11656831}\n",
      "Running fold 6 / 10\n",
      "Epoch 00279: early stopping\n",
      "Score is: {'std': 198.74063, 'loss': 0.00013167944031084903, 'mean': -0.18093458}\n",
      "Running fold 7 / 10\n",
      "Epoch 00182: early stopping\n",
      "Score is: {'std': 202.52708, 'loss': 0.00055560544490134084, 'mean': -0.26162055}\n",
      "Running fold 8 / 10\n",
      "Epoch 00137: early stopping\n",
      "Score is: {'std': 191.17661, 'loss': 0.0011898694774989068, 'mean': -0.40477419}\n",
      "Running fold 9 / 10\n",
      "Epoch 00135: early stopping\n",
      "Score is: {'std': 186.21718, 'loss': 0.00093127057260396532, 'mean': -0.1842193}\n",
      "Running fold 10 / 10\n",
      "Epoch 00057: early stopping\n",
      "Score is: {'std': 196.87515, 'loss': 0.00693267078271934, 'mean': 0.28797656}\n",
      "Cross-validation took 333.445s \n",
      "_________________________________________________________________\n",
      "Layer (type)                 Output Shape              Param #   \n",
      "=================================================================\n",
      "dense_77 (Dense)             (None, 100)               6400      \n",
      "_________________________________________________________________\n",
      "p_re_lu_58 (PReLU)           (None, 100)               100       \n",
      "_________________________________________________________________\n",
      "dense_78 (Dense)             (None, 100)               10100     \n",
      "_________________________________________________________________\n",
      "p_re_lu_59 (PReLU)           (None, 100)               100       \n",
      "_________________________________________________________________\n",
      "dense_79 (Dense)             (None, 100)               10100     \n",
      "_________________________________________________________________\n",
      "p_re_lu_60 (PReLU)           (None, 100)               100       \n",
      "_________________________________________________________________\n",
      "dense_80 (Dense)             (None, 1)                 101       \n",
      "=================================================================\n",
      "Total params: 27,001\n",
      "Trainable params: 27,001\n",
      "Non-trainable params: 0\n",
      "_________________________________________________________________\n"
     ]
    }
   ],
   "source": [
    "start = time.time()\n",
    "results = []\n",
    "histories = []\n",
    "os.system(\"rm train_weights/*.h5\")\n",
    "os.system(\"rm train_weights/*.json\")\n",
    "os.system(\"rm train_weights/*.pkl\")\n",
    "if cvTests:\n",
    "    kf = KFold(n_splits=nSplits, shuffle=True)\n",
    "    i = 0\n",
    "    for train, test in kf.split(X_reg):\n",
    "        i += 1\n",
    "        print (\"Running fold\", i, \"/\", nSplits)\n",
    "        model = None # Clearing the NN\n",
    "        model = getRegressor(regModel)\n",
    "        model.reset_states #Just checking\n",
    "        trainingData = (X_reg[train], y_reg[train])\n",
    "        lossHistory = LossHistory()\n",
    "        earlyStop = EarlyStopping(monitor='val_loss', patience=10, verbose=1, mode='auto')\n",
    "        saveBest = ModelCheckpoint(\"train_weights/best.h5\", monitor='val_loss', verbose=0, save_best_only=True, save_weights_only=True, mode='auto', period=1)\n",
    "        model.fit(X_reg[train], y_reg[train],\n",
    "                  validation_data = (X_reg[test], y_reg[test]),\n",
    "                  callbacks = [earlyStop, saveBest, lossHistory],\n",
    "                  **trainParams)\n",
    "        histories.append(lossHistory.losses)\n",
    "        model.load_weights(\"train_weights/best.h5\")\n",
    "        results.append({})\n",
    "        results[-1]['mean'], results[-1]['std'] = getResponse(outputPipe.inverse_transform(model.predict(X_reg[test], verbose=0)),\n",
    "                                                              outputPipe.inverse_transform(y_reg[test]))\n",
    "        results[-1]['loss'] = model.evaluate(X_reg[test], y_reg[test], verbose=0)\n",
    "        print (\"Score is:\", results[-1])\n",
    "        model.save('train_weights/train_' + str(i-1) + '.h5')\n",
    "else :\n",
    "    for i in range(nSplits):\n",
    "        print (\"Running fold\", i+1, \"/\", nSplits)\n",
    "        model = None # Clearing the NN.\n",
    "        model = getRegressor(regModel)\n",
    "        model.reset_states #Just checking\n",
    "        earlyStop = EarlyStopping(monitor='loss', patience=10, verbose=1, mode='auto')\n",
    "        saveBest = ModelCheckpoint(\"train_weights/best.h5\", monitor='loss', verbose=0, save_best_only=True, save_weights_only=True, mode='auto', period=1)\n",
    "        histories.append(model.fit(X_reg, y_reg,\n",
    "                  callbacks = [earlyStop, saveBest],\n",
    "                  **trainParams))\n",
    "        model.load_weights(\"train_weights/best.h5\")\n",
    "        results.append({})\n",
    "        results[-1]['mean'], results[-1]['std'] = getResponse(outputPipe.inverse_transform(model.predict(X_reg, verbose=0)),\n",
    "                                                              outputPipe.inverse_transform(y_reg))\n",
    "        results[-1]['loss'] = model.evaluate(X_reg, y_reg, verbose=0)\n",
    "        print (\"Score is:\", results[-1])\n",
    "        model.save('train_weights/train_' + str(i) + '.h5')\n",
    "with open('train_weights/resultsFile.pkl', 'w') as fout:\n",
    "    pickle.dump(results, fout)\n",
    "print (\"Cross-validation took {:.3f}s \".format(time.time() - start))\n",
    "X_reg = None\n",
    "y_reg = None\n",
    "train = None\n",
    "test = None\n",
    "model.summary()\n",
    "model = None"
   ]
  },
  {
   "cell_type": "markdown",
   "metadata": {},
   "source": [
    "### Plot training histories"
   ]
  },
  {
   "cell_type": "code",
   "execution_count": 74,
   "metadata": {},
   "outputs": [
    {
     "data": {
      "text/plain": [
       "<matplotlib.text.Text at 0x7f6f56c3ca50>"
      ]
     },
     "execution_count": 74,
     "metadata": {},
     "output_type": "execute_result"
    },
    {
     "data": {
      "image/png": "[encoded data removed]",
      "text/plain": [
       "<matplotlib.figure.Figure at 0x7f6f544cfb90>"
      ]
     },
     "metadata": {},
     "output_type": "display_data"
    }
   ],
   "source": [
    "plt.figure(figsize=(16,8))\n",
    "if cvTests:\n",
    "    for i, history in enumerate(histories):\n",
    "        if i == 0:\n",
    "            plt.plot(history['loss'], color='g', label='Training')\n",
    "            plt.plot(history['val_loss'], color='b', label='Testing')\n",
    "        else:\n",
    "            plt.plot(history['loss'], color='g')\n",
    "            plt.plot(history['val_loss'], color='b')\n",
    "    plt.legend(fontsize=16)\n",
    "else:\n",
    "    for history in histories:\n",
    "        plt.plot(history.history['loss'])\n",
    "plt.xlabel(\"Epoch\", fontsize=24, color='black')\n",
    "plt.ylabel(\"MSE\", fontsize=24, color='black')"
   ]
  },
  {
   "cell_type": "markdown",
   "metadata": {},
   "source": [
    "## Construct ensemble"
   ]
  },
  {
   "cell_type": "code",
   "execution_count": 75,
   "metadata": {},
   "outputs": [],
   "source": [
    "results = None\n",
    "with open('train_weights/resultsFile.pkl', 'r') as fin:   \n",
    "    results = pickle.load(fin)"
   ]
  },
  {
   "cell_type": "code",
   "execution_count": 76,
   "metadata": {
    "collapsed": true
   },
   "outputs": [],
   "source": [
    "def loadModel(cycle, location='train_weights/train_'):\n",
    "    cycle = int(cycle)\n",
    "    model = load_model(location + str(cycle) + '.h5')\n",
    "    model.compile(**compileArgs)\n",
    "    return model"
   ]
  },
  {
   "cell_type": "code",
   "execution_count": 77,
   "metadata": {
    "collapsed": true
   },
   "outputs": [],
   "source": [
    "def getWeights(value, met):\n",
    "    return 1/value"
   ]
  },
  {
   "cell_type": "code",
   "execution_count": 78,
   "metadata": {},
   "outputs": [
    {
     "name": "stdout",
     "output_type": "stream",
     "text": [
      "Choosing ensemble by loss\n",
      "Model 0 is 5 with loss = 0.000131679440311\n",
      "Model 1 is 3 with loss = 0.000247747178631\n",
      "Model 2 is 1 with loss = 0.000402620616168\n",
      "Model 3 is 2 with loss = 0.000411940063394\n",
      "Model 4 is 6 with loss = 0.000555605444901\n",
      "Model 5 is 0 with loss = 0.000806603672098\n",
      "Model 6 is 8 with loss = 0.000931270572604\n",
      "Model 7 is 4 with loss = 0.00111861168745\n",
      "Model 8 is 7 with loss = 0.0011898694775\n",
      "Model 9 is 9 with loss = 0.00693267078272\n"
     ]
    }
   ],
   "source": [
    "ensemble = []\n",
    "weights = []\n",
    "print (\"Choosing ensemble by\", ensembleMode)\n",
    "if ensembleMode == 'mix':\n",
    "    for met in results[0]:\n",
    "        print( \"Choosing best for metric\", met)\n",
    "        cycle = np.argmin([result[met] for result in results])\n",
    "        print (met, \"Model\", \"is\", cycle, \"with\", met, \"=\", results[cycle][met])\n",
    "        ensemble.append(loadModel(cycle))\n",
    "        weights.append(1)\n",
    "else:\n",
    "    dtype = [('cycle', int), ('result', float)]\n",
    "    values = np.sort(np.array([(i, result[ensembleMode]) for i, result in enumerate(results)], dtype=dtype),\n",
    "                     order=['result'])\n",
    "    for i in range(min([ensembleSize, len(results)])):\n",
    "        ensemble.append(loadModel(values[i]['cycle']))\n",
    "        weights.append(getWeights(values[i]['result'], ensembleMode))\n",
    "        print (\"Model\", i, \"is\", values[i]['cycle'], \"with\", ensembleMode, \"=\", values[i]['result'])\n",
    "weights = np.array(weights)\n",
    "weights = weights/weights.sum() #normalise weights"
   ]
  },
  {
   "cell_type": "markdown",
   "metadata": {},
   "source": [
    "## Response of ensemble on development data"
   ]
  },
  {
   "cell_type": "markdown",
   "metadata": {},
   "source": [
    "###  Preprocess data"
   ]
  },
  {
   "cell_type": "code",
   "execution_count": 79,
   "metadata": {
    "collapsed": true
   },
   "outputs": [],
   "source": [
    "X_dev = inputPipe.transform(devData[regTrainFeatures].values.astype(theano.config.floatX))"
   ]
  },
  {
   "cell_type": "markdown",
   "metadata": {},
   "source": [
    "### Get response"
   ]
  },
  {
   "cell_type": "code",
   "execution_count": 80,
   "metadata": {},
   "outputs": [],
   "source": [
    "pred = np.zeros((len(devData), len(regTargetFeatures)))\n",
    "for i, model in enumerate(ensemble):\n",
    "    pred += weights[i]*outputPipe.inverse_transform(model.predict(X_dev, verbose=0)) \n",
    "devData['regHH_diH_mass'] = pandas.Series(pred[:,0], index=devData.index)"
   ]
  },
  {
   "cell_type": "markdown",
   "metadata": {},
   "source": [
    "### Evaluate response"
   ]
  },
  {
   "cell_type": "code",
   "execution_count": 81,
   "metadata": {},
   "outputs": [
    {
     "name": "stdout",
     "output_type": "stream",
     "text": [
      "Ensemble on dev data:\n",
      " Loss = 0.228971360785, Mean = -0.115988102311 +- 0.000741917000806, sigma = 0.463312287344 +- 0.00153551831584\n"
     ]
    },
    {
     "name": "stderr",
     "output_type": "stream",
     "text": [
      "/home/goncalo/anaconda2/lib/python2.7/site-packages/ipykernel_launcher.py:3: DeprecationWarning: \n",
      ".ix is deprecated. Please use\n",
      ".loc for label based indexing or\n",
      ".iloc for positional indexing\n",
      "\n",
      "See the documentation here:\n",
      "http://pandas.pydata.org/pandas-docs/stable/indexing.html#deprecate_ix\n",
      "  This is separate from the ipykernel package so we can avoid doing imports until\n",
      "/home/goncalo/anaconda2/lib/python2.7/site-packages/pandas/core/indexing.py:992: DeprecationWarning: \n",
      ".ix is deprecated. Please use\n",
      ".loc for label based indexing or\n",
      ".iloc for positional indexing\n",
      "\n",
      "See the documentation here:\n",
      "http://pandas.pydata.org/pandas-docs/stable/indexing.html#deprecate_ix\n",
      "  return getattr(section, self.name)[new_key]\n",
      "/home/goncalo/anaconda2/lib/python2.7/site-packages/pandas/core/indexing.py:992: DeprecationWarning: \n",
      ".ix is deprecated. Please use\n",
      ".loc for label based indexing or\n",
      ".iloc for positional indexing\n",
      "\n",
      "See the documentation here:\n",
      "http://pandas.pydata.org/pandas-docs/stable/indexing.html#deprecate_ix\n",
      "  return getattr(section, self.name)[new_key]\n",
      "/home/goncalo/anaconda2/lib/python2.7/site-packages/pandas/core/indexing.py:992: DeprecationWarning: \n",
      ".ix is deprecated. Please use\n",
      ".loc for label based indexing or\n",
      ".iloc for positional indexing\n",
      "\n",
      "See the documentation here:\n",
      "http://pandas.pydata.org/pandas-docs/stable/indexing.html#deprecate_ix\n",
      "  return getattr(section, self.name)[new_key]\n",
      "/home/goncalo/anaconda2/lib/python2.7/site-packages/pandas/core/indexing.py:992: DeprecationWarning: \n",
      ".ix is deprecated. Please use\n",
      ".loc for label based indexing or\n",
      ".iloc for positional indexing\n",
      "\n",
      "See the documentation here:\n",
      "http://pandas.pydata.org/pandas-docs/stable/indexing.html#deprecate_ix\n",
      "  return getattr(section, self.name)[new_key]\n"
     ]
    }
   ],
   "source": [
    "devData['loss_d'] = 0\n",
    "for n, feature in enumerate(regTargetFeatures):\n",
    "    devData.ix[:, 'loss_d'] += np.square(devData.ix[:, 'regHH_' + feature[4:]]-devData.ix[:, feature])\n",
    "meanBootReg = []\n",
    "stdevBootReg = []\n",
    "for i in range(100):\n",
    "    points = np.random.choice(devData['regHH_diH_mass'].values-devData['gen_diH_mass'].values, len(devData), replace=True)\n",
    "    meanBootReg.append(points.mean())\n",
    "    stdevBootReg.append(points.std())\n",
    "meanReg = (np.mean(meanBootReg), np.std(meanBootReg)/math.sqrt(len(meanBootReg)))\n",
    "stdevReg = (np.mean(stdevBootReg), np.std(stdevBootReg)/math.sqrt(len(stdevBootReg)))\n",
    "print ('Ensemble on dev data:\\n Loss = {}, Mean = {} +- {}, sigma = {} +- {}'.format(np.mean(devData.ix[:, 'loss_d'])/len(regTargetFeatures), meanReg[0], meanReg[1], stdevReg[0], stdevReg[1]))"
   ]
  },
  {
   "cell_type": "markdown",
   "metadata": {},
   "source": [
    "## Response of ensemble on validation data"
   ]
  },
  {
   "cell_type": "markdown",
   "metadata": {},
   "source": [
    "###  Preprocess data"
   ]
  },
  {
   "cell_type": "code",
   "execution_count": 82,
   "metadata": {
    "collapsed": true
   },
   "outputs": [],
   "source": [
    "X_val = inputPipe.transform(valData[regTrainFeatures].values.astype(theano.config.floatX))"
   ]
  },
  {
   "cell_type": "markdown",
   "metadata": {},
   "source": [
    "### Get response"
   ]
  },
  {
   "cell_type": "code",
   "execution_count": 83,
   "metadata": {},
   "outputs": [],
   "source": [
    "pred = np.zeros((len(valData), len(regTargetFeatures)))\n",
    "for i, model in enumerate(ensemble):\n",
    "    pred += weights[i]*outputPipe.inverse_transform(model.predict(X_val, verbose=0)) \n",
    "valData['regHH_diH_mass'] = pandas.Series(pred[:,0], index=valData.index)"
   ]
  },
  {
   "cell_type": "markdown",
   "metadata": {},
   "source": [
    "### Evaluate response"
   ]
  },
  {
   "cell_type": "code",
   "execution_count": 84,
   "metadata": {
    "scrolled": true
   },
   "outputs": [
    {
     "name": "stderr",
     "output_type": "stream",
     "text": [
      "/home/goncalo/anaconda2/lib/python2.7/site-packages/ipykernel_launcher.py:3: DeprecationWarning: \n",
      ".ix is deprecated. Please use\n",
      ".loc for label based indexing or\n",
      ".iloc for positional indexing\n",
      "\n",
      "See the documentation here:\n",
      "http://pandas.pydata.org/pandas-docs/stable/indexing.html#deprecate_ix\n",
      "  This is separate from the ipykernel package so we can avoid doing imports until\n",
      "/home/goncalo/anaconda2/lib/python2.7/site-packages/pandas/core/indexing.py:992: DeprecationWarning: \n",
      ".ix is deprecated. Please use\n",
      ".loc for label based indexing or\n",
      ".iloc for positional indexing\n",
      "\n",
      "See the documentation here:\n",
      "http://pandas.pydata.org/pandas-docs/stable/indexing.html#deprecate_ix\n",
      "  return getattr(section, self.name)[new_key]\n",
      "/home/goncalo/anaconda2/lib/python2.7/site-packages/pandas/core/indexing.py:992: DeprecationWarning: \n",
      ".ix is deprecated. Please use\n",
      ".loc for label based indexing or\n",
      ".iloc for positional indexing\n",
      "\n",
      "See the documentation here:\n",
      "http://pandas.pydata.org/pandas-docs/stable/indexing.html#deprecate_ix\n",
      "  return getattr(section, self.name)[new_key]\n",
      "/home/goncalo/anaconda2/lib/python2.7/site-packages/pandas/core/indexing.py:992: DeprecationWarning: \n",
      ".ix is deprecated. Please use\n",
      ".loc for label based indexing or\n",
      ".iloc for positional indexing\n",
      "\n",
      "See the documentation here:\n",
      "http://pandas.pydata.org/pandas-docs/stable/indexing.html#deprecate_ix\n",
      "  return getattr(section, self.name)[new_key]\n"
     ]
    },
    {
     "name": "stdout",
     "output_type": "stream",
     "text": [
      "Ensemble on val data:\n",
      " Loss = 1.0352407854, Mean = -0.1186630382 +- 0.00289863584517, sigma = 1.00379627022 +- 0.00349953258456\n"
     ]
    },
    {
     "name": "stderr",
     "output_type": "stream",
     "text": [
      "/home/goncalo/anaconda2/lib/python2.7/site-packages/pandas/core/indexing.py:992: DeprecationWarning: \n",
      ".ix is deprecated. Please use\n",
      ".loc for label based indexing or\n",
      ".iloc for positional indexing\n",
      "\n",
      "See the documentation here:\n",
      "http://pandas.pydata.org/pandas-docs/stable/indexing.html#deprecate_ix\n",
      "  return getattr(section, self.name)[new_key]\n"
     ]
    }
   ],
   "source": [
    "valData['loss_v'] = 0\n",
    "for n, feature in enumerate(regTargetFeatures):\n",
    "    valData.ix[sig, 'loss_v'] += np.square(valData.ix[sig, 'regHH_' + feature[4:]]-valData.ix[sig, feature])\n",
    "meanBootReg = []\n",
    "stvalBootReg = []\n",
    "for i in range(100):\n",
    "    points = np.random.choice(valData[sig]['regHH_diH_mass'].values-valData[sig]['gen_diH_mass'].values, len(valData[sig]), replace=True)\n",
    "    meanBootReg.append(points.mean())\n",
    "    stvalBootReg.append(points.std())\n",
    "meanReg = (np.mean(meanBootReg), np.std(meanBootReg)/math.sqrt(len(meanBootReg)))\n",
    "stvalReg = (np.mean(stvalBootReg), np.std(stvalBootReg)/math.sqrt(len(stvalBootReg)))\n",
    "print ('Ensemble on val data:\\n Loss = {}, Mean = {} +- {}, sigma = {} +- {}'.format(np.mean(valData.ix[sig, 'loss_v'])/len(regTargetFeatures), meanReg[0], meanReg[1], stvalReg[0], stvalReg[1]))"
   ]
  },
  {
   "cell_type": "markdown",
   "metadata": {},
   "source": [
    "### Two-sample Kolmogorov–Smirnov test"
   ]
  },
  {
   "cell_type": "code",
   "execution_count": 85,
   "metadata": {},
   "outputs": [
    {
     "name": "stdout",
     "output_type": "stream",
     "text": [
      "\n",
      "gen_diH_mass\n",
      "K-S test result 0.1567, p-value of 0.0000\n"
     ]
    }
   ],
   "source": [
    "for n, feature in enumerate(regTargetFeatures):\n",
    "    print ()\n",
    "    print (feature)\n",
    "    ksTest = ks_2samp(valData[sig][feature].values, valData[sig]['regHH_' + feature[4:]].values)\n",
    "    print (\"K-S test result {0:.4f}, p-value of {1:.4f}\".format(ksTest[0], ksTest[1]))"
   ]
  },
  {
   "cell_type": "markdown",
   "metadata": {},
   "source": [
    "### Di-Higgs mass distribution"
   ]
  },
  {
   "cell_type": "code",
   "execution_count": 86,
   "metadata": {},
   "outputs": [
    {
     "name": "stderr",
     "output_type": "stream",
     "text": [
      "/home/goncalo/anaconda2/lib/python2.7/site-packages/statsmodels/nonparametric/kde.py:475: DeprecationWarning: object of type <type 'numpy.float64'> cannot be safely interpreted as an integer.\n",
      "  grid,delta = np.linspace(a,b,gridsize,retstep=True)\n",
      "/home/goncalo/anaconda2/lib/python2.7/site-packages/statsmodels/nonparametric/kde.py:475: DeprecationWarning: object of type <type 'numpy.float64'> cannot be safely interpreted as an integer.\n",
      "  grid,delta = np.linspace(a,b,gridsize,retstep=True)\n",
      "/home/goncalo/anaconda2/lib/python2.7/site-packages/pandas/core/indexing.py:992: DeprecationWarning: \n",
      ".ix is deprecated. Please use\n",
      ".loc for label based indexing or\n",
      ".iloc for positional indexing\n",
      "\n",
      "See the documentation here:\n",
      "http://pandas.pydata.org/pandas-docs/stable/indexing.html#deprecate_ix\n",
      "  return getattr(section, self.name)[new_key]\n",
      "/home/goncalo/anaconda2/lib/python2.7/site-packages/statsmodels/nonparametric/kde.py:475: DeprecationWarning: object of type <type 'numpy.float64'> cannot be safely interpreted as an integer.\n",
      "  grid,delta = np.linspace(a,b,gridsize,retstep=True)\n"
     ]
    },
    {
     "data": {
      "image/png": "[encoded data removed]",
      "text/plain": [
       "<matplotlib.figure.Figure at 0x7f6f1fec1990>"
      ]
     },
     "metadata": {},
     "output_type": "display_data"
    }
   ],
   "source": [
    "plt.figure(figsize=(16, 8))\n",
    "\n",
    "sns.kdeplot(data=valData.loc[sig, 'gen_diH_mass'])\n",
    "\n",
    "sns.kdeplot(data=valData.loc[sig, 'diH_mass'])\n",
    "\n",
    "sns.kdeplot(data=valData.ix[sig, 'regHH_diH_mass'])\n",
    "plt.legend(fontsize=16)\n",
    "plt.xlabel(r\"$M_{hh}\\ [GeV]$\", fontsize=24)\n",
    "plt.ylabel(r\"$\\frac{1}{N}\\ \\frac{dN}{dM}\\ [GeV^{-1}]$\", fontsize=24, color='black')\n",
    "plt.show()"
   ]
  },
  {
   "cell_type": "code",
   "execution_count": 87,
   "metadata": {},
   "outputs": [],
   "source": [
    "xPlot = np.linspace(0, 1500, 1500)[:, np.newaxis]\n",
    "plots = mpRun([{'data':valData.loc[bkg, 'diH_mass'], 'x':xPlot, 'name':'bkg', 'kde':1, 'mean':1, 'std':1},\n",
    "               {'data':valData.loc[bkg, 'regHH_diH_mass'], 'x':xPlot, 'name':'bkg_reg', 'kde':1, 'mean':1, 'std':1},\n",
    "               {'data':valData.loc[sig, 'diH_mass'], 'x':xPlot, 'name':'sig', 'kde':1, 'mean':1, 'std':1},\n",
    "               {'data':valData.loc[sig, 'regHH_diH_mass'], 'x':xPlot, 'name':'sig_reg', 'kde':1, 'mean':1, 'std':1},\n",
    "               {'data':valData.loc[sig, 'gen_diH_mass'], 'x':xPlot, 'name':'gen', 'kde':1, 'mean':1, 'std':1}])"
   ]
  },
  {
   "cell_type": "code",
   "execution_count": 88,
   "metadata": {
    "collapsed": true
   },
   "outputs": [],
   "source": [
    "meanReco = (np.mean(plots['sig' + '_mean']),\n",
    "            np.std(plots['sig' + '_mean'])/math.sqrt(len(plots['sig' + '_mean'])))\n",
    "stdReco = (np.mean(plots['sig' + '_std']),\n",
    "             np.std(plots['sig' + '_std'])/math.sqrt(len(plots['sig' + '_std'])))\n",
    "meanReg = (np.mean(plots['sig_reg' + '_mean']),\n",
    "            np.std(plots['sig_reg' + '_mean'])/math.sqrt(len(plots['sig_reg' + '_mean'])))\n",
    "stdReg = (np.mean(plots['sig_reg' + '_std']),\n",
    "             np.std(plots['sig_reg' + '_std'])/math.sqrt(len(plots['sig_reg' + '_std'])))\n",
    "meanGen = (np.mean(plots['gen' + '_mean']),\n",
    "            np.std(plots['gen' + '_mean'])/math.sqrt(len(plots['gen' + '_mean'])))\n",
    "stdGen = (np.mean(plots['gen' + '_std']),\n",
    "             np.std(plots['gen' + '_std'])/math.sqrt(len(plots['gen' + '_std'])))"
   ]
  },
  {
   "cell_type": "code",
   "execution_count": 122,
   "metadata": {},
   "outputs": [
    {
     "name": "stderr",
     "output_type": "stream",
     "text": [
      "/home/goncalo/anaconda2/lib/python2.7/site-packages/statsmodels/nonparametric/kde.py:475: DeprecationWarning: object of type <type 'numpy.float64'> cannot be safely interpreted as an integer.\n",
      "  grid,delta = np.linspace(a,b,gridsize,retstep=True)\n",
      "/home/goncalo/anaconda2/lib/python2.7/site-packages/statsmodels/nonparametric/kde.py:475: DeprecationWarning: object of type <type 'numpy.float64'> cannot be safely interpreted as an integer.\n",
      "  grid,delta = np.linspace(a,b,gridsize,retstep=True)\n",
      "/home/goncalo/anaconda2/lib/python2.7/site-packages/statsmodels/nonparametric/kde.py:475: DeprecationWarning: object of type <type 'numpy.float64'> cannot be safely interpreted as an integer.\n",
      "  grid,delta = np.linspace(a,b,gridsize,retstep=True)\n",
      "/home/goncalo/anaconda2/lib/python2.7/site-packages/statsmodels/nonparametric/kde.py:475: DeprecationWarning: object of type <type 'numpy.float64'> cannot be safely interpreted as an integer.\n",
      "  grid,delta = np.linspace(a,b,gridsize,retstep=True)\n",
      "/home/goncalo/anaconda2/lib/python2.7/site-packages/statsmodels/nonparametric/kde.py:475: DeprecationWarning: object of type <type 'numpy.float64'> cannot be safely interpreted as an integer.\n",
      "  grid,delta = np.linspace(a,b,gridsize,retstep=True)\n"
     ]
    },
    {
     "data": {
      "image/png": "[encoded data removed]",
      "text/plain": [
       "<matplotlib.figure.Figure at 0x7f6f57a434d0>"
      ]
     },
     "metadata": {},
     "output_type": "display_data"
    }
   ],
   "source": [
    "plt.figure(figsize=(16, 8))\n",
    "sns.kdeplot(data=valData.loc[bkg, 'diH_mass'])\n",
    "sns.kdeplot(data=valData[bkg]['regHH_diH_mass'][valData[bkg]['regHH_diH_mass']>40])\n",
    "sns.kdeplot(data=valData.loc[sig, 'diH_mass'])\n",
    "sns.kdeplot(data=valData.loc[sig, 'regHH_diH_mass'])\n",
    "sns.kdeplot(data=valData.loc[sig, 'gen_diH_mass'])\n",
    "plt.xlim(40,800)\n",
    "plt.xlabel(r\"$M_{hh}\\ [GeV]$\", fontsize=24, color='black')\n",
    "plt.ylabel(r\"$\\frac{1}{N}\\ \\frac{dN}{dM}\\ [GeV^{-1}]$\", fontsize=24, color='black')\n",
    "plt.show()\n"
   ]
  },
  {
   "cell_type": "code",
   "execution_count": 90,
   "metadata": {},
   "outputs": [
    {
     "name": "stdout",
     "output_type": "stream",
     "text": [
      "Regressed Signal, Mean = -0.113773941648 +- 0.00326495052615, sigma = 1.00783490286 +- 0.00301219137193\n",
      "Reconstructed Signal,  Mean = -35.5477564308 +- 0.275983994238, sigma = 86.8467998922 +- 0.457797948928\n"
     ]
    }
   ],
   "source": [
    "pullRegHH = valData[sig]['regHH_diH_mass'].values-valData[sig]['gen_diH_mass'].values\n",
    "pullReco = valData[sig]['diH_mass'].values-valData[sig]['gen_diH_mass'].values\n",
    "xPlot = np.linspace(-300, 300, 600)[:, np.newaxis]\n",
    "bootReco = []\n",
    "meanBootReco = []\n",
    "stdevBootReco = []\n",
    "for i in range(100):\n",
    "    points = np.random.choice(pullReco, len(pullReco), replace=True)\n",
    "    meanBootReco.append(points.mean())\n",
    "    stdevBootReco.append(points.std())\n",
    "meanReco = (np.mean(meanBootReco), np.std(meanBootReco)/math.sqrt(len(meanBootReco)))\n",
    "stdevReco = (np.mean(stdevBootReco), np.std(stdevBootReco)/math.sqrt(len(stdevBootReco)))\n",
    "bootRegHH = []\n",
    "meanBootRegHH = []\n",
    "stdevBootRegHH = []\n",
    "for i in range(100):\n",
    "    points = np.random.choice(pullRegHH, len(pullRegHH), replace=True)\n",
    "    meanBootRegHH.append(points.mean())\n",
    "    stdevBootRegHH.append(points.std())\n",
    "meanRegHH = (np.mean(meanBootRegHH), np.std(meanBootRegHH)/math.sqrt(len(meanBootRegHH)))\n",
    "stdevRegHH = (np.mean(stdevBootRegHH), np.std(stdevBootRegHH)/math.sqrt(len(stdevBootRegHH)))\n",
    "print ('Regressed Signal, Mean = {} +- {}, sigma = {} +- {}'.format(meanRegHH[0], meanRegHH[1], stdevRegHH[0], stdevRegHH[1]))\n",
    "print ('Reconstructed Signal,  Mean = {} +- {}, sigma = {} +- {}'.format(meanReco[0], meanReco[1], stdevReco[0], stdevReco[1]))"
   ]
  },
  {
   "cell_type": "code",
   "execution_count": 91,
   "metadata": {},
   "outputs": [
    {
     "name": "stderr",
     "output_type": "stream",
     "text": [
      "/home/goncalo/anaconda2/lib/python2.7/site-packages/pandas/core/indexing.py:992: DeprecationWarning: \n",
      ".ix is deprecated. Please use\n",
      ".loc for label based indexing or\n",
      ".iloc for positional indexing\n",
      "\n",
      "See the documentation here:\n",
      "http://pandas.pydata.org/pandas-docs/stable/indexing.html#deprecate_ix\n",
      "  return getattr(section, self.name)[new_key]\n"
     ]
    }
   ],
   "source": [
    "xPlot = np.linspace(-300, 300, 600)[:, np.newaxis]\n",
    "plots = mpRun([{'data':valData.loc[sig, 'diH_mass']-valData.ix[sig,'gen_diH_mass'], 'x':xPlot, 'name':'reco', 'kde':1, 'mean':1, 'std':1},\n",
    "               {'data':valData.loc[sig, 'regHH_diH_mass']-valData.ix[sig,'gen_diH_mass'], 'x':xPlot, 'name':'reg', 'kde':1, 'mean':1, 'std':1}])"
   ]
  },
  {
   "cell_type": "code",
   "execution_count": 92,
   "metadata": {},
   "outputs": [],
   "source": [
    "meanReco = (np.mean(plots['reco' + '_mean']),\n",
    "            np.std(plots['reco' + '_mean'])/math.sqrt(len(plots['reco' + '_mean'])))\n",
    "stdReco = (np.mean(plots['reco' + '_std']),\n",
    "             np.std(plots['reco' + '_std'])/math.sqrt(len(plots['reco' + '_std'])))\n",
    "meanReg = (np.mean(plots['reg' + '_mean']),\n",
    "            np.std(plots['reg' + '_mean'])/math.sqrt(len(plots['reg' + '_mean'])))\n",
    "stdReg = (np.mean(plots['reg' + '_std']),\n",
    "             np.std(plots['reg' + '_std'])/math.sqrt(len(plots['reg' + '_std'])))"
   ]
  },
  {
   "cell_type": "code",
   "execution_count": 93,
   "metadata": {},
   "outputs": [
    {
     "name": "stderr",
     "output_type": "stream",
     "text": [
      "/home/goncalo/anaconda2/lib/python2.7/site-packages/statsmodels/nonparametric/kde.py:475: DeprecationWarning: object of type <type 'numpy.float64'> cannot be safely interpreted as an integer.\n",
      "  grid,delta = np.linspace(a,b,gridsize,retstep=True)\n",
      "/home/goncalo/anaconda2/lib/python2.7/site-packages/statsmodels/nonparametric/kde.py:475: DeprecationWarning: object of type <type 'numpy.float64'> cannot be safely interpreted as an integer.\n",
      "  grid,delta = np.linspace(a,b,gridsize,retstep=True)\n"
     ]
    },
    {
     "data": {
      "image/png": "[encoded data removed]",
      "text/plain": [
       "<matplotlib.figure.Figure at 0x7f6f55d2c090>"
      ]
     },
     "metadata": {},
     "output_type": "display_data"
    }
   ],
   "source": [
    "plt.figure(figsize=(16, 8))\n",
    "sns.kdeplot(data=pullRegHH)\n",
    "sns.kdeplot(data=pullReco)\n",
    "plt.xlabel(r\"$M_{hh,\\mathrm{Est.}}-M_{hh,\\mathrm{True}}\\ [GeV]$\", fontsize=24, color='black')\n",
    "plt.ylabel(r\"$\\frac{1}{N}\\ \\frac{dN}{d\\Delta M}\\ [GeV^{-1}]$\", fontsize=24, color='black')\n",
    "plt.yticks\n",
    "plt.show()"
   ]
  },
  {
   "cell_type": "markdown",
   "metadata": {},
   "source": [
    "### ROC Curve"
   ]
  },
  {
   "cell_type": "code",
   "execution_count": 94,
   "metadata": {},
   "outputs": [
    {
     "name": "stdout",
     "output_type": "stream",
     "text": [
      "Reg: 1.0\n",
      "Reco: 0.708101966221\n"
     ]
    },
    {
     "name": "stderr",
     "output_type": "stream",
     "text": [
      "/home/goncalo/anaconda2/lib/python2.7/site-packages/pandas/core/indexing.py:992: DeprecationWarning: \n",
      ".ix is deprecated. Please use\n",
      ".loc for label based indexing or\n",
      ".iloc for positional indexing\n",
      "\n",
      "See the documentation here:\n",
      "http://pandas.pydata.org/pandas-docs/stable/indexing.html#deprecate_ix\n",
      "  return getattr(section, self.name)[new_key]\n",
      "/home/goncalo/anaconda2/lib/python2.7/site-packages/pandas/core/indexing.py:992: DeprecationWarning: \n",
      ".ix is deprecated. Please use\n",
      ".loc for label based indexing or\n",
      ".iloc for positional indexing\n",
      "\n",
      "See the documentation here:\n",
      "http://pandas.pydata.org/pandas-docs/stable/indexing.html#deprecate_ix\n",
      "  return getattr(section, self.name)[new_key]\n"
     ]
    }
   ],
   "source": [
    "print ('Reg:', roc_auc_score(valData.ix[sig|bkg, 'gen_target'], valData.ix[sig|bkg, 'regHH_diH_mass']))\n",
    "print ('Reco:', roc_auc_score(valData.ix[sig|bkg, 'gen_target'], valData.ix[sig|bkg, 'diH_mass']))"
   ]
  },
  {
   "cell_type": "code",
   "execution_count": 95,
   "metadata": {},
   "outputs": [
    {
     "name": "stderr",
     "output_type": "stream",
     "text": [
      "/home/goncalo/anaconda2/lib/python2.7/site-packages/statsmodels/nonparametric/kde.py:475: DeprecationWarning: object of type <type 'numpy.float64'> cannot be safely interpreted as an integer.\n",
      "  grid,delta = np.linspace(a,b,gridsize,retstep=True)\n",
      "/home/goncalo/anaconda2/lib/python2.7/site-packages/statsmodels/nonparametric/kde.py:475: DeprecationWarning: object of type <type 'numpy.float64'> cannot be safely interpreted as an integer.\n",
      "  grid,delta = np.linspace(a,b,gridsize,retstep=True)\n"
     ]
    },
    {
     "data": {
      "text/plain": [
       "<matplotlib.legend.Legend at 0x7f6f56f29f10>"
      ]
     },
     "execution_count": 95,
     "metadata": {},
     "output_type": "execute_result"
    },
    {
     "data": {
      "image/png": "[encoded data removed]",
      "text/plain": [
       "<matplotlib.figure.Figure at 0x7f6f56e467d0>"
      ]
     },
     "metadata": {},
     "output_type": "display_data"
    }
   ],
   "source": [
    "sns.distplot(-np.abs(125-valData.ix[sig, 'regHH_diH_mass']), label='signal')\n",
    "sns.distplot(-np.abs(125-valData.ix[bkg, 'regHH_diH_mass']), label='bkg')\n",
    "plt.legend()"
   ]
  },
  {
   "cell_type": "markdown",
   "metadata": {},
   "source": [
    "## Classifiers response"
   ]
  },
  {
   "cell_type": "markdown",
   "metadata": {},
   "source": [
    "### Train"
   ]
  },
  {
   "cell_type": "code",
   "execution_count": 96,
   "metadata": {
    "collapsed": true
   },
   "outputs": [],
   "source": [
    "classFeatures = ['b_0_mass',\n",
    "                 'b_1_mass',\n",
    "                 't_0_mass',\n",
    "                 't_1_mass',\n",
    "                 'mPT_px', 'mPT_py',\n",
    "                 'diH_px', 'diH_py', 'diH_pz', 'diH_E', 'diH_|p|',\n",
    "                 'hl_mT']"
   ]
  },
  {
   "cell_type": "code",
   "execution_count": 97,
   "metadata": {},
   "outputs": [
    {
     "name": "stdout",
     "output_type": "stream",
     "text": [
      "44 Training features\n"
     ]
    },
    {
     "data": {
      "text/plain": [
       "XGBClassifier(base_score=0.5, booster='gbtree', colsample_bylevel=1,\n",
       "       colsample_bytree=1, gamma=0, learning_rate=0.3, max_delta_step=0,\n",
       "       max_depth=6, min_child_weight=1, missing=-999.0, n_estimators=100,\n",
       "       n_jobs=8, nthread=None, objective='binary:logistic', random_state=0,\n",
       "       reg_alpha=0, reg_lambda=1, scale_pos_weight=1, seed=None,\n",
       "       silent=True, subsample=1)"
      ]
     },
     "execution_count": 97,
     "metadata": {},
     "output_type": "execute_result"
    }
   ],
   "source": [
    "recoFeatures = ['diH_mass']\n",
    "recoFeatures += ['b_0_px', 'b_0_py', 'b_0_pz', 'b_0_|p|', 'b_0_E',\n",
    "                 'b_1_px', 'b_1_py', 'b_1_pz', 'b_1_|p|', 'b_1_E',\n",
    "                 't_0_px', 't_0_py', 't_0_pz', 't_0_E', 't_0_|p|',\n",
    "                 't_1_px', 't_1_py', 't_1_pz', 't_1_E', 't_1_|p|',\n",
    "                 'h_bb_px', 'h_bb_py', 'h_bb_pz', 'h_bb_|p|', 'h_bb_E',\n",
    "                 'h_tt_px', 'h_tt_py', 'h_tt_pz', 'h_tt_mass', 'h_tt_E', 'h_tt_|p|']\n",
    "recoFeatures += classFeatures\n",
    "print (len(recoFeatures), \"Training features\")\n",
    "recoClass = xgb.XGBClassifier(base_score=0.5, learning_rate=0.3,\n",
    "         gamma=0, max_depth=6, missing=-999.0, n_estimators=100, random_state=0,n_jobs=8)\n",
    "recoClass.fit(valData[recoFeatures], valData['gen_target'].values.astype('int'))"
   ]
  },
  {
   "cell_type": "code",
   "execution_count": 98,
   "metadata": {},
   "outputs": [
    {
     "data": {
      "text/plain": [
       "XGBClassifier(base_score=0.5, booster='gbtree', colsample_bylevel=1,\n",
       "       colsample_bytree=1, gamma=0, learning_rate=0.3, max_delta_step=0,\n",
       "       max_depth=6, min_child_weight=1, missing=-999.0, n_estimators=100,\n",
       "       n_jobs=8, nthread=None, objective='binary:logistic', random_state=0,\n",
       "       reg_alpha=0, reg_lambda=1, scale_pos_weight=1, seed=None,\n",
       "       silent=True, subsample=1)"
      ]
     },
     "execution_count": 98,
     "metadata": {},
     "output_type": "execute_result"
    }
   ],
   "source": [
    "regFeatures = ['regHH_diH_mass']\n",
    "regFeatures += ['regB_b_0_px', 'regB_b_0_py', 'regB_b_0_pz', 'regB_b_0_|p|', 'regB_b_0_E',\n",
    "                'regB_b_1_px', 'regB_b_1_py', 'regB_b_1_pz', 'regB_b_1_|p|', 'regB_b_1_E',\n",
    "                'regTau_t_0_px', 'regTau_t_0_py', 'regTau_t_0_pz', 'regTau_t_0_E', 'regTau_t_0_|p|',\n",
    "                'regTau_t_1_px', 'regTau_t_1_py', 'regTau_t_1_pz', 'regTau_t_1_E', 'regTau_t_1_|p|',\n",
    "                'regTau_h_tt_px', 'regTau_h_tt_py', 'regTau_h_tt_pz', 'regTau_h_tt_mass', 'regTau_h_tt_E', 'regTau_h_tt_|p|',\n",
    "                'regB_h_bb_px', 'regB_h_bb_py', 'regB_h_bb_pz', 'regB_h_bb_|p|', 'regB_h_bb_E']\n",
    "regFeatures += classFeatures\n",
    "regClass = xgb.XGBClassifier(base_score=0.5, learning_rate=0.3,\n",
    "         gamma=0, max_depth=6, missing=-999.0, n_estimators=100, random_state=0,n_jobs=8)\n",
    "regClass.fit(valData[regFeatures], valData['gen_target'].values.astype('int'))"
   ]
  },
  {
   "cell_type": "markdown",
   "metadata": {},
   "source": [
    "### Test"
   ]
  },
  {
   "cell_type": "code",
   "execution_count": 99,
   "metadata": {
    "collapsed": true
   },
   "outputs": [],
   "source": [
    "recoPred = recoClass.predict_proba(valData[recoFeatures])[:,1]"
   ]
  },
  {
   "cell_type": "code",
   "execution_count": 100,
   "metadata": {
    "collapsed": true
   },
   "outputs": [],
   "source": [
    "regPred = regClass.predict_proba(valData[regFeatures])[:,1]"
   ]
  },
  {
   "cell_type": "code",
   "execution_count": 101,
   "metadata": {},
   "outputs": [],
   "source": [
    "recoAUC = roc_auc_score(valData['gen_target'].values, recoPred)\n",
    "regAUC = roc_auc_score(valData['gen_target'].values, regPred)"
   ]
  },
  {
   "cell_type": "code",
   "execution_count": 102,
   "metadata": {},
   "outputs": [
    {
     "data": {
      "image/png": "[encoded data removed]",
      "text/plain": [
       "<matplotlib.figure.Figure at 0x7f6f4eeb8710>"
      ]
     },
     "metadata": {},
     "output_type": "display_data"
    }
   ],
   "source": [
    "plt.figure(figsize=[8, 8])\n",
    "plt.plot(*roc_curve(valData['gen_target'].values, recoPred)[:2],\n",
    "         label=r'Reco Val, $auc={:.4f}$'.format(recoAUC), color='g')\n",
    "plt.plot(*roc_curve(valData['gen_target'].values, regPred)[:2],\n",
    "         label=r'Reg Val, $auc={:.4f}$'.format(regAUC), color='b')\n",
    "#plt.plot([0, 1], [0, 1], 'k--', label='No discrimination')\n",
    "plt.xlabel('Background acceptance', fontsize=24, color='black')\n",
    "plt.ylabel('Signal acceptance', fontsize=24, color='black')\n",
    "plt.legend(loc='best', fontsize=24)\n",
    "plt.show()"
   ]
  },
  {
   "cell_type": "markdown",
   "metadata": {},
   "source": [
    "## Save/load"
   ]
  },
  {
   "cell_type": "code",
   "execution_count": 103,
   "metadata": {},
   "outputs": [
    {
     "name": "stdout",
     "output_type": "stream",
     "text": [
      "weights/NN_HH_Regressor_App_mu_tau_b_b_\n"
     ]
    }
   ],
   "source": [
    "name = \"weights/NN_HH_Regressor_App_\" + mode + \"_\" \n",
    "print (name)"
   ]
  },
  {
   "cell_type": "markdown",
   "metadata": {},
   "source": [
    "### Save"
   ]
  },
  {
   "cell_type": "code",
   "execution_count": 104,
   "metadata": {},
   "outputs": [],
   "source": [
    "os.system(\"rm \" + name + \"*.json\")\n",
    "os.system(\"rm \" + name + \"*.h5\")\n",
    "os.system(\"rm \" + name + \"*.pkl\")\n",
    "for i, model in enumerate(ensemble):\n",
    "    json_string = model.to_json()\n",
    "    open(name + '_' + str(i) + '.json', 'w').write(json_string)\n",
    "    model.save_weights(name + '_' + str(i) + '.h5')\n",
    "with open(name + '_compile.json', 'w') as fout:\n",
    "    json.dump(compileArgs, fout)\n",
    "with open(name + '_weights.pkl', 'w') as fout:\n",
    "    pickle.dump(weights, fout)\n",
    "with open(name + '_inputPipe.pkl', 'w') as fout:\n",
    "    pickle.dump(inputPipe, fout)\n",
    "with open(name + '_outputPipe.pkl', 'w') as fout:\n",
    "    pickle.dump(outputPipe, fout)"
   ]
  },
  {
   "cell_type": "markdown",
   "metadata": {},
   "source": [
    "### Load"
   ]
  },
  {
   "cell_type": "code",
   "execution_count": 105,
   "metadata": {},
   "outputs": [],
   "source": [
    "ensemble = []\n",
    "weights = None\n",
    "inputPipe = None\n",
    "outputPipe = None\n",
    "compileArgs = None\n",
    "with open(name + '_compile.json', 'r') as fin:\n",
    "    compileArgs = json.load(fin)\n",
    "for i in range(ensembleSize):\n",
    "    model = model_from_json(open(name + '_' + str(i) + '.json').read())\n",
    "    model.load_weights(name + \"_\" + str(i) + '.h5')\n",
    "    model.compile(**compileArgs)\n",
    "    ensemble.append(model)\n",
    "with open(name + '_weights.pkl', 'r') as fin:\n",
    "    weights = pickle.load(fin)\n",
    "with open(name + '_inputPipe.pkl', 'r') as fin:\n",
    "    inputPipe = pickle.load(fin)\n",
    "with open(name + '_outputPipe.pkl', 'r') as fin:\n",
    "    outputPipe = pickle.load(fin)"
   ]
  },
  {
   "cell_type": "code",
   "execution_count": null,
   "metadata": {
    "collapsed": true
   },
   "outputs": [],
   "source": []
  }
 ],
 "metadata": {
  "kernelspec": {
   "display_name": "Python 2",
   "language": "python",
   "name": "python2"
  },
  "language_info": {
   "codemirror_mode": {
    "name": "ipython",
    "version": 2
   },
   "file_extension": ".py",
   "mimetype": "text/x-python",
   "name": "python",
   "nbconvert_exporter": "python",
   "pygments_lexer": "ipython2",
   "version": "2.7.13"
  }
 },
 "nbformat": 4,
 "nbformat_minor": 1
}
